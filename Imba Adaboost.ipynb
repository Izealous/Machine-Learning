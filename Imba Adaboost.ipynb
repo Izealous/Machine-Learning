{
 "cells": [
  {
   "cell_type": "code",
   "execution_count": 1,
   "id": "d9d9dd31",
   "metadata": {},
   "outputs": [],
   "source": [
    "import numpy as np\n",
    "import matplotlib.pyplot as plt\n",
    "import pandas as pd\n",
    "from sklearn.feature_extraction.text import TfidfVectorizer\n",
    "from sklearn.model_selection import train_test_split, cross_val_score, cross_validate, cross_val_predict, KFold, StratifiedKFold\n",
    "from sklearn.naive_bayes import BernoulliNB, MultinomialNB\n",
    "from sklearn.metrics import confusion_matrix\n",
    "from sklearn.feature_extraction.text import CountVectorizer\n",
    "from sklearn.metrics import accuracy_score, recall_score, f1_score, classification_report, confusion_matrix, make_scorer, precision_score\n",
    "from sklearn.ensemble import AdaBoostClassifier\n",
    "from sklearn.datasets import make_classification\n",
    "from numpy import mean"
   ]
  },
  {
   "cell_type": "code",
   "execution_count": 2,
   "id": "1d5d284d",
   "metadata": {},
   "outputs": [],
   "source": [
    "#Input Dataset\n",
    "dataset = pd.read_csv('hasilpreproces_imba.csv', delimiter = ';', quoting = 3)\n",
    "corpus = dataset['text'].tolist()"
   ]
  },
  {
   "cell_type": "code",
   "execution_count": 3,
   "id": "d91cc9e0",
   "metadata": {},
   "outputs": [],
   "source": [
    "#TF IDF\n",
    "vectorizer = TfidfVectorizer()\n",
    "x = vectorizer.fit_transform(corpus).toarray()\n",
    "y = dataset.iloc[:, 1].values"
   ]
  },
  {
   "cell_type": "code",
   "execution_count": 4,
   "id": "70eece94",
   "metadata": {},
   "outputs": [
    {
     "name": "stdout",
     "output_type": "stream",
     "text": [
      "[[  0   0  47]\n",
      " [  0   0  50]\n",
      " [  0   0 370]]\n",
      "akurasi =  0.7922912205567452\n",
      "precision =  0.627725378171297\n",
      "recall =  0.7922912205567452\n",
      "f1 =  0.7004725247455095\n",
      "========================\n",
      "[[  0   0  47]\n",
      " [  0   0  50]\n",
      " [  0   0 370]]\n",
      "akurasi =  0.7922912205567452\n",
      "precision =  0.627725378171297\n",
      "recall =  0.7922912205567452\n",
      "f1 =  0.7004725247455095\n",
      "========================\n",
      "[[  0   0  47]\n",
      " [  0   0  50]\n",
      " [  0   0 370]]\n",
      "akurasi =  0.7922912205567452\n",
      "precision =  0.627725378171297\n",
      "recall =  0.7922912205567452\n",
      "f1 =  0.7004725247455095\n",
      "========================\n",
      "[[  0   0  47]\n",
      " [  0   2  48]\n",
      " [  0   0 370]]\n",
      "akurasi =  0.7965738758029979\n",
      "precision =  0.7374916534272754\n",
      "recall =  0.7965738758029979\n",
      "f1 =  0.7103861787214568\n",
      "========================\n",
      "[[  0   0  47]\n",
      " [  0   0  50]\n",
      " [  0   0 370]]\n",
      "akurasi =  0.7922912205567452\n",
      "precision =  0.627725378171297\n",
      "recall =  0.7922912205567452\n",
      "f1 =  0.7004725247455095\n",
      "========================\n",
      "[[  0   0  47]\n",
      " [  0   0  50]\n",
      " [  0   0 370]]\n",
      "akurasi =  0.7922912205567452\n",
      "precision =  0.627725378171297\n",
      "recall =  0.7922912205567452\n",
      "f1 =  0.7004725247455095\n",
      "========================\n",
      "[[  0   0  47]\n",
      " [  0   0  49]\n",
      " [  0   0 370]]\n",
      "akurasi =  0.7939914163090128\n",
      "precision =  0.6304223691723922\n",
      "recall =  0.7939914163090128\n",
      "f1 =  0.7028153685031933\n",
      "========================\n",
      "[[  0   0  46]\n",
      " [  0   0  50]\n",
      " [  0   0 370]]\n",
      "akurasi =  0.7939914163090128\n",
      "precision =  0.6304223691723922\n",
      "recall =  0.7939914163090128\n",
      "f1 =  0.7028153685031933\n",
      "========================\n",
      "[[  0   0  47]\n",
      " [  0   1  49]\n",
      " [  0   0 369]]\n",
      "akurasi =  0.7939914163090128\n",
      "precision =  0.7356638515852139\n",
      "recall =  0.7939914163090128\n",
      "f1 =  0.7049055025103875\n",
      "========================\n",
      "[[  0   0  47]\n",
      " [  0   1  49]\n",
      " [  0   0 369]]\n",
      "akurasi =  0.7939914163090128\n",
      "precision =  0.7356638515852139\n",
      "recall =  0.7939914163090128\n",
      "f1 =  0.7049055025103875\n",
      "========================\n"
     ]
    }
   ],
   "source": [
    "model = MultinomialNB()\n",
    "fold = StratifiedKFold(10,shuffle=False)\n",
    "for train_index, test_index in fold.split(x, y):\n",
    "    X_train, X_test = x[train_index], x[test_index]\n",
    "    y_train, y_test = y[train_index], y[test_index]\n",
    "    model.fit(X_train, y_train)\n",
    "    y_pred = model.predict(X_test)\n",
    "    cm = confusion_matrix(y_test, y_pred)\n",
    "    accuracy = accuracy_score(y_test, y_pred)\n",
    "    precision = precision_score(y_test, y_pred,average='weighted',zero_division=0)\n",
    "    recall = recall_score(y_test, y_pred, average='weighted',zero_division=0)\n",
    "    f1 = f1_score(y_test, y_pred, average='weighted',zero_division=0)\n",
    "    print(cm)\n",
    "    print('akurasi = ',accuracy)\n",
    "    print('precision = ',precision)\n",
    "    print('recall = ',recall)\n",
    "    print('f1 = ',f1)\n",
    "    print('========================')"
   ]
  },
  {
   "cell_type": "code",
   "execution_count": 5,
   "id": "285e3e51",
   "metadata": {},
   "outputs": [
    {
     "name": "stdout",
     "output_type": "stream",
     "text": [
      "[[  0   0  47]\n",
      " [  0   0  50]\n",
      " [  0   0 370]]\n",
      "akurasi =  0.7922912205567452\n",
      "precision =  0.627725378171297\n",
      "recall =  0.7922912205567452\n",
      "f1 =  0.7004725247455095\n",
      "========================\n",
      "[[  0   0  47]\n",
      " [  0   0  50]\n",
      " [  0   0 370]]\n",
      "akurasi =  0.7922912205567452\n",
      "precision =  0.627725378171297\n",
      "recall =  0.7922912205567452\n",
      "f1 =  0.7004725247455095\n",
      "========================\n",
      "[[  0   0  47]\n",
      " [  0   0  50]\n",
      " [  0   0 370]]\n",
      "akurasi =  0.7922912205567452\n",
      "precision =  0.627725378171297\n",
      "recall =  0.7922912205567452\n",
      "f1 =  0.7004725247455095\n",
      "========================\n",
      "[[  0   0  47]\n",
      " [  0   0  50]\n",
      " [  0   0 370]]\n",
      "akurasi =  0.7922912205567452\n",
      "precision =  0.627725378171297\n",
      "recall =  0.7922912205567452\n",
      "f1 =  0.7004725247455095\n",
      "========================\n",
      "[[  0   0  47]\n",
      " [  0   0  50]\n",
      " [  0   0 370]]\n",
      "akurasi =  0.7922912205567452\n",
      "precision =  0.627725378171297\n",
      "recall =  0.7922912205567452\n",
      "f1 =  0.7004725247455095\n",
      "========================\n",
      "[[  0   0  47]\n",
      " [  0   0  50]\n",
      " [  0   0 370]]\n",
      "akurasi =  0.7922912205567452\n",
      "precision =  0.627725378171297\n",
      "recall =  0.7922912205567452\n",
      "f1 =  0.7004725247455095\n",
      "========================\n",
      "[[  0   0  47]\n",
      " [  0   0  49]\n",
      " [  0   0 370]]\n",
      "akurasi =  0.7939914163090128\n",
      "precision =  0.6304223691723922\n",
      "recall =  0.7939914163090128\n",
      "f1 =  0.7028153685031933\n",
      "========================\n",
      "[[  0   0  46]\n",
      " [  0   0  50]\n",
      " [  0   0 370]]\n",
      "akurasi =  0.7939914163090128\n",
      "precision =  0.6304223691723922\n",
      "recall =  0.7939914163090128\n",
      "f1 =  0.7028153685031933\n",
      "========================\n",
      "[[  0   0  47]\n",
      " [  0   0  50]\n",
      " [  0   0 369]]\n",
      "akurasi =  0.7918454935622318\n",
      "precision =  0.6270192856748144\n",
      "recall =  0.7918454935622318\n",
      "f1 =  0.6998586517951221\n",
      "========================\n",
      "[[  0   0  47]\n",
      " [  0   0  50]\n",
      " [  0   0 369]]\n",
      "akurasi =  0.7918454935622318\n",
      "precision =  0.6270192856748144\n",
      "recall =  0.7918454935622318\n",
      "f1 =  0.6998586517951221\n",
      "========================\n"
     ]
    }
   ],
   "source": [
    "model_boost =  AdaBoostClassifier(base_estimator = MultinomialNB())\n",
    "fold = StratifiedKFold(10,shuffle=False)\n",
    "for train_index, test_index in fold.split(x, y):\n",
    "    X_train, X_test = x[train_index], x[test_index]\n",
    "    y_train, y_test = y[train_index], y[test_index]\n",
    "    model_boost.fit(X_train, y_train)\n",
    "    y_pred = model_boost.predict(X_test)\n",
    "    cm = confusion_matrix(y_test, y_pred)\n",
    "    accuracy = accuracy_score(y_test, y_pred)\n",
    "    precision = precision_score(y_test, y_pred,average='weighted',zero_division=0)\n",
    "    recall = recall_score(y_test, y_pred, average='weighted',zero_division=0)\n",
    "    f1 = f1_score(y_test, y_pred, average='weighted',zero_division=0)\n",
    "    print(cm)\n",
    "    print('akurasi = ',accuracy)\n",
    "    print('precision = ',precision)\n",
    "    print('recall = ',recall)\n",
    "    print('f1 = ',f1)\n",
    "    print('========================')"
   ]
  },
  {
   "cell_type": "code",
   "execution_count": 28,
   "id": "d6ae1d27",
   "metadata": {},
   "outputs": [
    {
     "name": "stdout",
     "output_type": "stream",
     "text": [
      "[0.70152091 0.70342205 0.70532319 0.70532319 0.70912548 0.70722433\n",
      " 0.70912548 0.71102662 0.70722433 0.71047619]\n",
      "Rata - Rata Akurasi :  0.7069791779829803\n"
     ]
    }
   ],
   "source": [
    "#Cross Val NB\n",
    "classifierNB = MultinomialNB()\n",
    "cv_nb = cross_val_score(classifierNB, x, y, cv = 10)\n",
    "print(cv_nb)\n",
    "print(\"Rata - Rata Akurasi : \",mean(cv_nb))"
   ]
  },
  {
   "cell_type": "code",
   "execution_count": 19,
   "id": "a8fd94fe",
   "metadata": {},
   "outputs": [
    {
     "name": "stdout",
     "output_type": "stream",
     "text": [
      "[0.70342205 0.70342205 0.70342205 0.70342205 0.70342205 0.70532319\n",
      " 0.70342205 0.70342205 0.67870722 0.7047619 ]\n",
      "Rata - Rata Akurasi :  0.701274669563643\n"
     ]
    }
   ],
   "source": [
    "#Cross Val Adaboost NB \n",
    "classifierBoost = AdaBoostClassifier(base_estimator = classifierNB, algorithm=\"SAMME\")\n",
    "cv_ada = cross_val_score(classifierBoost, x, y, cv = 10)\n",
    "print(cv_ada)\n",
    "print(\"Rata - Rata Akurasi : \",mean(cv_ada))"
   ]
  },
  {
   "cell_type": "code",
   "execution_count": 13,
   "id": "5d072789",
   "metadata": {},
   "outputs": [],
   "source": [
    "#Split\n",
    "x_train,x_test, y_train, y_test = train_test_split(x, y, test_size = 0.1)"
   ]
  },
  {
   "cell_type": "code",
   "execution_count": 14,
   "id": "bb7abf44",
   "metadata": {},
   "outputs": [],
   "source": [
    "#Test Klasifikasi NB\n",
    "classifierNB.fit(x_train, y_train)\n",
    "preds = classifierNB.predict(x)"
   ]
  },
  {
   "cell_type": "code",
   "execution_count": 15,
   "id": "6a66105b",
   "metadata": {},
   "outputs": [
    {
     "name": "stdout",
     "output_type": "stream",
     "text": [
      "Score Confusion Matrix Data Test Naive Bayes :\n",
      "\n",
      "               precision    recall  f1-score   support\n",
      "\n",
      "          -1       1.00      0.14      0.25      1062\n",
      "           0       1.00      0.03      0.06       499\n",
      "           1       0.73      1.00      0.84      3698\n",
      "\n",
      "    accuracy                           0.73      5259\n",
      "   macro avg       0.91      0.39      0.38      5259\n",
      "weighted avg       0.81      0.73      0.65      5259\n",
      "\n",
      "Accuracy NB :  0.7347404449515117\n"
     ]
    }
   ],
   "source": [
    "#Nilai Test Confusion Matrix NB\n",
    "score_nb = classification_report(y, preds, zero_division=0)\n",
    "print('Score Confusion Matrix Data Test Naive Bayes :\\n\\n', score_nb)\n",
    "print('Accuracy NB : ',accuracy_score(y, preds))"
   ]
  },
  {
   "cell_type": "code",
   "execution_count": 16,
   "id": "5a494cfc",
   "metadata": {},
   "outputs": [],
   "source": [
    "#Klasifikasi Test Adaboost NB\n",
    "classifierBoost.fit(x_train, y_train)\n",
    "pred_boost = classifierBoost.predict(x)"
   ]
  },
  {
   "cell_type": "code",
   "execution_count": 17,
   "id": "9196af13",
   "metadata": {},
   "outputs": [
    {
     "name": "stdout",
     "output_type": "stream",
     "text": [
      "Score Confusion Matrix Data Test Adaboost Naive Bayes :\n",
      "\n",
      "               precision    recall  f1-score   support\n",
      "\n",
      "          -1       0.85      0.12      0.20      1062\n",
      "           0       0.00      0.00      0.00       499\n",
      "           1       0.72      0.99      0.83      3698\n",
      "\n",
      "    accuracy                           0.72      5259\n",
      "   macro avg       0.52      0.37      0.35      5259\n",
      "weighted avg       0.68      0.72      0.63      5259\n",
      "\n",
      "Accuracy Adaboost NB :  0.7223806807377828\n"
     ]
    }
   ],
   "source": [
    "#Nilai Test Confusion Matrix Adaboost NB\n",
    "score_ad = classification_report(y,pred_boost, zero_division=0)\n",
    "print('Score Confusion Matrix Data Test Adaboost Naive Bayes :\\n\\n', score_ad)\n",
    "print('Accuracy Adaboost NB : ',accuracy_score(y, pred_boost))"
   ]
  },
  {
   "cell_type": "code",
   "execution_count": null,
   "id": "e1c78646",
   "metadata": {},
   "outputs": [],
   "source": []
  }
 ],
 "metadata": {
  "kernelspec": {
   "display_name": "Python 3 (ipykernel)",
   "language": "python",
   "name": "python3"
  },
  "language_info": {
   "codemirror_mode": {
    "name": "ipython",
    "version": 3
   },
   "file_extension": ".py",
   "mimetype": "text/x-python",
   "name": "python",
   "nbconvert_exporter": "python",
   "pygments_lexer": "ipython3",
   "version": "3.10.0"
  }
 },
 "nbformat": 4,
 "nbformat_minor": 5
}
