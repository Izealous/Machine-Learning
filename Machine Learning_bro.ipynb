{
 "cells": [
  {
   "cell_type": "code",
   "execution_count": 1,
   "id": "d9d9dd31",
   "metadata": {},
   "outputs": [],
   "source": [
    "import numpy as np\n",
    "import matplotlib.pyplot as plt\n",
    "import pandas as pd\n",
    "from sklearn.feature_extraction.text import TfidfVectorizer\n",
    "from sklearn.model_selection import train_test_split, cross_val_score, cross_validate\n",
    "from sklearn.naive_bayes import BernoulliNB\n",
    "from sklearn.metrics import confusion_matrix\n",
    "from sklearn.feature_extraction.text import CountVectorizer\n",
    "from sklearn.metrics import accuracy_score, recall_score, f1_score, classification_report, confusion_matrix\n",
    "from sklearn.ensemble import AdaBoostClassifier\n",
    "from sklearn.datasets import make_classification\n",
    "from numpy import mean"
   ]
  },
  {
   "cell_type": "code",
   "execution_count": 3,
   "id": "1d5d284d",
   "metadata": {},
   "outputs": [],
   "source": [
    "#Input Dataset\n",
    "dataset = pd.read_csv('hasilpreproces_labeled.csv', delimiter = ';', quoting = 3)\n",
    "corpus = dataset['text'].tolist()\n",
    "# corpus = ['suka tidak bisa sesuai tingkat bawa rasa',\n",
    "#           'tidak usah alas guna tidak tahu sopan santun',\n",
    "#           'suka sama sini tampar',\n",
    "#          ]"
   ]
  },
  {
   "cell_type": "code",
   "execution_count": 4,
   "id": "d91cc9e0",
   "metadata": {},
   "outputs": [],
   "source": [
    "#TF IDF\n",
    "vectorizer = TfidfVectorizer()\n",
    "x = vectorizer.fit_transform(corpus).toarray()\n",
    "y = dataset.iloc[:, 1].values"
   ]
  },
  {
   "cell_type": "code",
   "execution_count": 5,
   "id": "d1a7cc29",
   "metadata": {},
   "outputs": [
    {
     "name": "stdout",
     "output_type": "stream",
     "text": [
      "[0.65974026 0.68051948 0.67230169 0.67620286 0.68790637 0.68530559\n",
      " 0.69960988 0.6189857  0.56827048 0.49674902]\n",
      "Rata - Rata Akurasi :  0.6445591339739585\n"
     ]
    }
   ],
   "source": [
    "#Cross Val NB\n",
    "classifierNB = BernoulliNB()\n",
    "cv_nb = cross_val_score(classifierNB, x, y, cv = 10)\n",
    "print(cv_nb)\n",
    "print(\"Rata - Rata Akurasi : \",mean(cv_nb))"
   ]
  },
  {
   "cell_type": "code",
   "execution_count": 6,
   "id": "9c5740c9",
   "metadata": {},
   "outputs": [
    {
     "name": "stdout",
     "output_type": "stream",
     "text": [
      "[0.35324675 0.35324675 0.35370611 0.35240572 0.35240572 0.35240572\n",
      " 0.35240572 0.35240572 0.35370611 0.35370611]\n",
      "Rata - Rata Akurasi :  0.3529640450576732\n"
     ]
    }
   ],
   "source": [
    "#Cross Val Adaboost NB \n",
    "classifierBoost = AdaBoostClassifier(base_estimator = BernoulliNB())\n",
    "cv_ada = cross_val_score(classifierBoost, x, y, cv = 10)\n",
    "print(cv_ada)\n",
    "print(\"Rata - Rata Akurasi : \",mean(cv_ada))"
   ]
  },
  {
   "cell_type": "code",
   "execution_count": 7,
   "id": "5d072789",
   "metadata": {},
   "outputs": [],
   "source": [
    "#Split\n",
    "x_train,x_test, y_train, y_test = train_test_split(x, y, test_size = 0.1)"
   ]
  },
  {
   "cell_type": "code",
   "execution_count": 8,
   "id": "bb7abf44",
   "metadata": {},
   "outputs": [],
   "source": [
    "#Test Klasifikasi NB\n",
    "classifierNB.fit(x_train, y_train)\n",
    "preds = classifierNB.predict(x_test)\n",
    "\n",
    "#Klasifikasi Data NB\n",
    "classifierNB.fit(x_train, y_train)\n",
    "data_pred = classifierNB.predict(x)"
   ]
  },
  {
   "cell_type": "code",
   "execution_count": 9,
   "id": "30e86e18",
   "metadata": {},
   "outputs": [
    {
     "name": "stdout",
     "output_type": "stream",
     "text": [
      "Confusion Matrix Data Test Naive Bayes :\n",
      "\n",
      " [[181   6  91]\n",
      " [  8  31  77]\n",
      " [ 29  17 330]] \n",
      "\n",
      "========================================\n",
      "========================================\n",
      "\n",
      "Confusion Matrix Data Real Naive Bayes :\n",
      "\n",
      " [[2268   22  425]\n",
      " [  49  610  620]\n",
      " [  85   25 3588]]\n"
     ]
    }
   ],
   "source": [
    "#Confusion Matrix Test NB\n",
    "cm_nb = confusion_matrix(y_test, preds)\n",
    "print('Confusion Matrix Data Test Naive Bayes :\\n\\n', cm_nb,'\\n')\n",
    "\n",
    "print('========================================')\n",
    "print('========================================\\n')\n",
    "\n",
    "#Confusion Matrix Data NB\n",
    "cm_Dnb = confusion_matrix(y, data_pred)\n",
    "print('Confusion Matrix Data Real Naive Bayes :\\n\\n', cm_Dnb)"
   ]
  },
  {
   "cell_type": "code",
   "execution_count": 10,
   "id": "6a66105b",
   "metadata": {},
   "outputs": [
    {
     "name": "stdout",
     "output_type": "stream",
     "text": [
      "Score Confusion Matrix Data Test Naive Bayes :\n",
      "\n",
      "               precision    recall  f1-score   support\n",
      "\n",
      "          -1       0.83      0.65      0.73       278\n",
      "           0       0.57      0.27      0.36       116\n",
      "           1       0.66      0.88      0.76       376\n",
      "\n",
      "    accuracy                           0.70       770\n",
      "   macro avg       0.69      0.60      0.62       770\n",
      "weighted avg       0.71      0.70      0.69       770\n",
      "\n",
      "========================================================\n",
      "========================================================\n",
      "\n",
      "Score Confusion Matrix Data Real Naive Bayes :\n",
      "\n",
      "               precision    recall  f1-score   support\n",
      "\n",
      "          -1       0.94      0.84      0.89      2715\n",
      "           0       0.93      0.48      0.63      1279\n",
      "           1       0.77      0.97      0.86      3698\n",
      "\n",
      "    accuracy                           0.84      7692\n",
      "   macro avg       0.88      0.76      0.79      7692\n",
      "weighted avg       0.86      0.84      0.83      7692\n",
      "\n"
     ]
    }
   ],
   "source": [
    "#Nilai Test Confusion Matrix NB\n",
    "score_nb = classification_report(y_test, preds, zero_division=0)\n",
    "print('Score Confusion Matrix Data Test Naive Bayes :\\n\\n', score_nb)\n",
    "\n",
    "print('========================================================')\n",
    "print('========================================================\\n')\n",
    "\n",
    "#Nilai Data Confusion Matrix NB\n",
    "score_Dnb = classification_report(y, data_pred, zero_division=0)\n",
    "print('Score Confusion Matrix Data Real Naive Bayes :\\n\\n', score_Dnb)"
   ]
  },
  {
   "cell_type": "code",
   "execution_count": 11,
   "id": "5a494cfc",
   "metadata": {},
   "outputs": [],
   "source": [
    "#Klasifikasi Test Adaboost NB\n",
    "classifierBoost.fit(x_train, y_train)\n",
    "pred_boost = classifierBoost.predict(x_test)\n",
    "\n",
    "#Klasifikasi Data Adaboost NB\n",
    "classifierBoost.fit(x_train, y_train)\n",
    "Dpred_boost = classifierBoost.predict(x)"
   ]
  },
  {
   "cell_type": "code",
   "execution_count": 12,
   "id": "8008ecec",
   "metadata": {},
   "outputs": [
    {
     "name": "stdout",
     "output_type": "stream",
     "text": [
      "Confusion Matrix Data Test AdaBoost Naive Bayes :\n",
      "\n",
      " [[278   0   0]\n",
      " [116   0   0]\n",
      " [376   0   0]] \n",
      "\n",
      "========================================\n",
      "========================================\n",
      "\n",
      "Confusion Matrix Data Real Adaboost Naive Bayes :\n",
      "\n",
      " [[2715    0    0]\n",
      " [1279    0    0]\n",
      " [3698    0    0]]\n"
     ]
    }
   ],
   "source": [
    "#Confusion Matrix Test Adaboost NB\n",
    "cm_ad = confusion_matrix(y_test, pred_boost)\n",
    "print('Confusion Matrix Data Test AdaBoost Naive Bayes :\\n\\n', cm_ad,'\\n')\n",
    "\n",
    "print('========================================')\n",
    "print('========================================\\n')\n",
    "\n",
    "#Confusion Matrix Test Adaboost NB\n",
    "cm_Dad = confusion_matrix(y, Dpred_boost)\n",
    "print('Confusion Matrix Data Real Adaboost Naive Bayes :\\n\\n', cm_Dad)"
   ]
  },
  {
   "cell_type": "code",
   "execution_count": 13,
   "id": "9196af13",
   "metadata": {},
   "outputs": [
    {
     "name": "stdout",
     "output_type": "stream",
     "text": [
      "Score Confusion Matrix Data Test Adaboost Naive Bayes :\n",
      "\n",
      "               precision    recall  f1-score   support\n",
      "\n",
      "          -1       0.36      1.00      0.53       278\n",
      "           0       0.00      0.00      0.00       116\n",
      "           1       0.00      0.00      0.00       376\n",
      "\n",
      "    accuracy                           0.36       770\n",
      "   macro avg       0.12      0.33      0.18       770\n",
      "weighted avg       0.13      0.36      0.19       770\n",
      "\n",
      "========================================================\n",
      "========================================================\n",
      "\n",
      "Score Confusion Matrix Data Real Adaboost Naive Bayes :\n",
      "\n",
      "               precision    recall  f1-score   support\n",
      "\n",
      "          -1       0.35      1.00      0.52      2715\n",
      "           0       0.00      0.00      0.00      1279\n",
      "           1       0.00      0.00      0.00      3698\n",
      "\n",
      "    accuracy                           0.35      7692\n",
      "   macro avg       0.12      0.33      0.17      7692\n",
      "weighted avg       0.12      0.35      0.18      7692\n",
      "\n"
     ]
    }
   ],
   "source": [
    "#Nilai Test Confusion Matrix Adaboost NB\n",
    "score_ad = classification_report(y_test,pred_boost, zero_division=0)\n",
    "print('Score Confusion Matrix Data Test Adaboost Naive Bayes :\\n\\n', score_ad)\n",
    "\n",
    "print('========================================================')\n",
    "print('========================================================\\n')\n",
    "\n",
    "#Nilai Data Confusion Matrix Adaboost NB\n",
    "score_Dad =classification_report(y,Dpred_boost, zero_division=0)\n",
    "print('Score Confusion Matrix Data Real Adaboost Naive Bayes :\\n\\n', score_Dad)"
   ]
  },
  {
   "cell_type": "code",
   "execution_count": null,
   "id": "e1c78646",
   "metadata": {},
   "outputs": [],
   "source": []
  }
 ],
 "metadata": {
  "kernelspec": {
   "display_name": "Python 3 (ipykernel)",
   "language": "python",
   "name": "python3"
  },
  "language_info": {
   "codemirror_mode": {
    "name": "ipython",
    "version": 3
   },
   "file_extension": ".py",
   "mimetype": "text/x-python",
   "name": "python",
   "nbconvert_exporter": "python",
   "pygments_lexer": "ipython3",
   "version": "3.10.0"
  }
 },
 "nbformat": 4,
 "nbformat_minor": 5
}
