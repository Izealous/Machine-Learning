{
 "cells": [
  {
   "cell_type": "code",
   "execution_count": 13,
   "id": "d9d9dd31",
   "metadata": {},
   "outputs": [],
   "source": [
    "import numpy as np\n",
    "import matplotlib.pyplot as plt\n",
    "import pandas as pd\n",
    "from sklearn.feature_extraction.text import TfidfVectorizer\n",
    "from sklearn.model_selection import train_test_split, cross_val_score, cross_validate\n",
    "from sklearn.naive_bayes import BernoulliNB \n",
    "from sklearn.metrics import confusion_matrix\n",
    "from sklearn.feature_extraction.text import CountVectorizer\n",
    "from sklearn.metrics import accuracy_score, recall_score, f1_score, classification_report, confusion_matrix\n",
    "from sklearn.ensemble import AdaBoostClassifier\n",
    "from sklearn.datasets import make_classification\n",
    "from numpy import mean"
   ]
  },
  {
   "cell_type": "code",
   "execution_count": 11,
   "id": "1d5d284d",
   "metadata": {},
   "outputs": [],
   "source": [
    "#Input Dataset\n",
    "dataset = pd.read_csv('hasilpreproces_imbalance.csv', delimiter = ';', quoting = 3)\n",
    "corpus = dataset['text'].tolist()"
   ]
  },
  {
   "cell_type": "code",
   "execution_count": 10,
   "id": "d91cc9e0",
   "metadata": {},
   "outputs": [],
   "source": [
    "#TF IDF\n",
    "vectorizer = TfidfVectorizer()\n",
    "x = vectorizer.fit_transform(corpus).toarray()\n",
    "y = dataset.iloc[:, 1].values"
   ]
  },
  {
   "cell_type": "code",
   "execution_count": 6,
   "id": "d6ae1d27",
   "metadata": {},
   "outputs": [
    {
     "name": "stdout",
     "output_type": "stream",
     "text": [
      "[0.78831169 0.81298701 0.79713914 0.80754226 0.8023407  0.80364109\n",
      " 0.81144343 0.80884265 0.81014304 0.81404421]\n",
      "Rata - Rata Akurasi :  0.8056435242260991\n"
     ]
    }
   ],
   "source": [
    "#Cross Val NB\n",
    "classifierNB = BernoulliNB()\n",
    "cv_nb = cross_val_score(classifierNB, x, y, cv = 10)\n",
    "print(cv_nb)\n",
    "print(\"Rata - Rata Akurasi : \",mean(cv_nb))"
   ]
  },
  {
   "cell_type": "code",
   "execution_count": 7,
   "id": "a8fd94fe",
   "metadata": {},
   "outputs": [
    {
     "name": "stdout",
     "output_type": "stream",
     "text": [
      "[0.81818182 0.81818182 0.81924577 0.81924577 0.81924577 0.81794538\n",
      " 0.81794538 0.81794538 0.81794538 0.81794538]\n",
      "Rata - Rata Akurasi :  0.8183827875635418\n"
     ]
    }
   ],
   "source": [
    "#Cross Val Adaboost NB \n",
    "classifierBoost = AdaBoostClassifier(base_estimator = BernoulliNB(),algorithm='SAMME')\n",
    "cv_ada = cross_val_score(classifierBoost, x, y, cv = 10)\n",
    "print(cv_ada)\n",
    "print(\"Rata - Rata Akurasi : \",mean(cv_ada))"
   ]
  },
  {
   "cell_type": "code",
   "execution_count": 23,
   "id": "5d072789",
   "metadata": {},
   "outputs": [],
   "source": [
    "#Split\n",
    "x_train,x_test, y_train, y_test = train_test_split(x, y, test_size = 0.1)"
   ]
  },
  {
   "cell_type": "code",
   "execution_count": 24,
   "id": "bb7abf44",
   "metadata": {},
   "outputs": [],
   "source": [
    "#Test Klasifikasi NB\n",
    "classifierNB.fit(x_train, y_train)\n",
    "preds = classifierNB.predict(x_test)"
   ]
  },
  {
   "cell_type": "code",
   "execution_count": 26,
   "id": "6a66105b",
   "metadata": {},
   "outputs": [
    {
     "name": "stdout",
     "output_type": "stream",
     "text": [
      "Score Confusion Matrix Data Test Naive Bayes :\n",
      "\n",
      "               precision    recall  f1-score   support\n",
      "\n",
      "          -1       0.42      0.09      0.14       152\n",
      "           1       0.81      0.97      0.88       618\n",
      "\n",
      "    accuracy                           0.80       770\n",
      "   macro avg       0.62      0.53      0.51       770\n",
      "weighted avg       0.73      0.80      0.74       770\n",
      "\n",
      "Accuracy NB :  0.7961038961038961\n"
     ]
    }
   ],
   "source": [
    "#Nilai Test Confusion Matrix NB\n",
    "score_nb = classification_report(y_test, preds, zero_division=0)\n",
    "print('Score Confusion Matrix Data Test Naive Bayes :\\n\\n', score_nb)\n",
    "print('Accuracy NB : ',accuracy_score(y_test, preds))"
   ]
  },
  {
   "cell_type": "code",
   "execution_count": 18,
   "id": "5a494cfc",
   "metadata": {},
   "outputs": [],
   "source": [
    "#Klasifikasi Test Adaboost NB\n",
    "classifierBoost.fit(x_train, y_train)\n",
    "pred_boost = classifierBoost.predict(x_test)"
   ]
  },
  {
   "cell_type": "code",
   "execution_count": 20,
   "id": "9196af13",
   "metadata": {},
   "outputs": [
    {
     "name": "stdout",
     "output_type": "stream",
     "text": [
      "Score Confusion Matrix Data Test Adaboost Naive Bayes :\n",
      "\n",
      "               precision    recall  f1-score   support\n",
      "\n",
      "          -1       0.00      0.00      0.00       138\n",
      "           1       0.82      1.00      0.90       632\n",
      "\n",
      "    accuracy                           0.82       770\n",
      "   macro avg       0.41      0.50      0.45       770\n",
      "weighted avg       0.67      0.82      0.74       770\n",
      "\n",
      "Accuracy Adaboost NB :  0.8207792207792208\n"
     ]
    }
   ],
   "source": [
    "#Nilai Test Confusion Matrix Adaboost NB\n",
    "score_ad = classification_report(y_test,pred_boost, zero_division=0)\n",
    "print('Score Confusion Matrix Data Test Adaboost Naive Bayes :\\n\\n', score_ad)\n",
    "print('Accuracy Adaboost NB : ',accuracy_score(y_test, pred_boost))"
   ]
  },
  {
   "cell_type": "code",
   "execution_count": null,
   "id": "e1c78646",
   "metadata": {},
   "outputs": [],
   "source": []
  }
 ],
 "metadata": {
  "kernelspec": {
   "display_name": "Python 3 (ipykernel)",
   "language": "python",
   "name": "python3"
  },
  "language_info": {
   "codemirror_mode": {
    "name": "ipython",
    "version": 3
   },
   "file_extension": ".py",
   "mimetype": "text/x-python",
   "name": "python",
   "nbconvert_exporter": "python",
   "pygments_lexer": "ipython3",
   "version": "3.10.0"
  }
 },
 "nbformat": 4,
 "nbformat_minor": 5
}
