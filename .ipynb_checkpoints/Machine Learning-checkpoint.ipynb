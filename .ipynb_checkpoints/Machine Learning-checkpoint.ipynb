{
 "cells": [
  {
   "cell_type": "code",
   "execution_count": 10,
   "id": "d9d9dd31",
   "metadata": {},
   "outputs": [],
   "source": [
    "import numpy as np\n",
    "import matplotlib.pyplot as plt\n",
    "import pandas as pd\n",
    "from sklearn.feature_extraction.text import TfidfVectorizer\n",
    "from sklearn.model_selection import train_test_split, cross_val_score, cross_validate\n",
    "from sklearn.naive_bayes import BernoulliNB\n",
    "from sklearn.metrics import confusion_matrix\n",
    "from sklearn.feature_extraction.text import CountVectorizer\n",
    "from sklearn.metrics import accuracy_score, recall_score, f1_score, classification_report, confusion_matrix\n",
    "from sklearn.ensemble import AdaBoostClassifier\n",
    "from sklearn.datasets import make_classification\n",
    "from numpy import mean"
   ]
  },
  {
   "cell_type": "code",
   "execution_count": 8,
   "id": "1d5d284d",
   "metadata": {},
   "outputs": [],
   "source": [
    "#Input Dataset\n",
    "dataset = pd.read_csv('hasilpreproces_labeled.csv', delimiter = ';', quoting = 3)\n",
    "corpus = dataset['text'].tolist()\n",
    "# corpus = ['suka tidak bisa sesuai tingkat bawa rasa',\n",
    "#           'tidak usah alas guna tidak tahu sopan santun',\n",
    "#           'suka sama sini tampar',\n",
    "#          ]"
   ]
  },
  {
   "cell_type": "code",
   "execution_count": 12,
   "id": "d91cc9e0",
   "metadata": {},
   "outputs": [
    {
     "data": {
      "text/plain": [
       "array([[0., 0., 0., ..., 0., 0., 0.],\n",
       "       [0., 0., 0., ..., 0., 0., 0.],\n",
       "       [0., 0., 0., ..., 0., 0., 0.],\n",
       "       ...,\n",
       "       [0., 0., 0., ..., 0., 0., 0.],\n",
       "       [0., 0., 0., ..., 0., 0., 0.],\n",
       "       [0., 0., 0., ..., 0., 0., 0.]])"
      ]
     },
     "execution_count": 12,
     "metadata": {},
     "output_type": "execute_result"
    }
   ],
   "source": [
    "#TF IDF\n",
    "vectorizer = TfidfVectorizer()\n",
    "x = vectorizer.fit_transform(corpus).toarray()\n",
    "y = dataset.iloc[:, 1].values\n",
    "x"
   ]
  },
  {
   "cell_type": "code",
   "execution_count": 4,
   "id": "d1a7cc29",
   "metadata": {},
   "outputs": [
    {
     "name": "stdout",
     "output_type": "stream",
     "text": [
      "[0.65974026 0.68051948 0.67230169 0.67620286 0.68790637 0.68530559\n",
      " 0.69960988 0.6189857  0.56827048 0.49674902]\n",
      "Rata - Rata Akurasi :  0.6445591339739585\n"
     ]
    }
   ],
   "source": [
    "#Cross Val NBC\n",
    "classifierNB = BernoulliNB()\n",
    "cv_nb = cross_val_score(classifierNB, x, y, cv = 10)\n",
    "print(cv_nb)\n",
    "print(\"Rata - Rata Akurasi : \",mean(cv_nb))"
   ]
  },
  {
   "cell_type": "code",
   "execution_count": 5,
   "id": "9c5740c9",
   "metadata": {},
   "outputs": [
    {
     "name": "stdout",
     "output_type": "stream",
     "text": [
      "[0.48051948 0.48701299 0.58777633 0.61118336 0.63328999 0.63979194\n",
      " 0.62678804 0.85825748 0.44343303 0.18205462]\n",
      "Rata - Rata Akurasi :  0.5550107239964197\n"
     ]
    }
   ],
   "source": [
    "#Cross Val Adaboost NBC\n",
    "classifierBoost = AdaBoostClassifier(base_estimator = BernoulliNB(),algorithm='SAMME')\n",
    "cv_ada = cross_val_score(classifierBoost, x, y, cv = 10)\n",
    "print(cv_ada)\n",
    "print(\"Rata - Rata Akurasi : \",mean(cv_ada))"
   ]
  },
  {
   "cell_type": "code",
   "execution_count": 6,
   "id": "5d072789",
   "metadata": {},
   "outputs": [],
   "source": [
    "#Split\n",
    "x_train,x_test, y_train, y_test = train_test_split(x, y, test_size = 0.1)"
   ]
  },
  {
   "cell_type": "code",
   "execution_count": 7,
   "id": "bb7abf44",
   "metadata": {},
   "outputs": [],
   "source": [
    "#Test Klasifikasi NBC\n",
    "classifierNB.fit(x_train, y_train)\n",
    "preds = classifierNB.predict(x_test)\n",
    "\n",
    "#Klasifikasi Data NBC\n",
    "classifierNB.fit(x_train, y_train)\n",
    "data_pred = classifierNB.predict(x)"
   ]
  },
  {
   "cell_type": "code",
   "execution_count": 8,
   "id": "30e86e18",
   "metadata": {},
   "outputs": [
    {
     "name": "stdout",
     "output_type": "stream",
     "text": [
      "Confusion Matrix Data Test Naive Bayes :\n",
      "\n",
      " [[178   5  81]\n",
      " [ 13  16 103]\n",
      " [ 34   6 334]] \n",
      "\n",
      "========================================\n",
      "========================================\n",
      "\n",
      "Confusion Matrix Data Real Naive Bayes :\n",
      "\n",
      " [[2277   19  419]\n",
      " [  48  573  658]\n",
      " [  87   12 3599]]\n"
     ]
    }
   ],
   "source": [
    "#Confusion Matrix Test NBC\n",
    "cm_nb = confusion_matrix(y_test, preds)\n",
    "print('Confusion Matrix Data Test Naive Bayes :\\n\\n', cm_nb,'\\n')\n",
    "\n",
    "print('========================================')\n",
    "print('========================================\\n')\n",
    "\n",
    "#Confusion Matrix Data NBC\n",
    "cm_Dnb = confusion_matrix(y, data_pred)\n",
    "print('Confusion Matrix Data Real Naive Bayes :\\n\\n', cm_Dnb)"
   ]
  },
  {
   "cell_type": "code",
   "execution_count": 9,
   "id": "6a66105b",
   "metadata": {},
   "outputs": [
    {
     "name": "stdout",
     "output_type": "stream",
     "text": [
      "Score Confusion Matrix Data Test Naive Bayes :\n",
      "\n",
      "               precision    recall  f1-score   support\n",
      "\n",
      "          -1       0.79      0.67      0.73       264\n",
      "           0       0.59      0.12      0.20       132\n",
      "           1       0.64      0.89      0.75       374\n",
      "\n",
      "    accuracy                           0.69       770\n",
      "   macro avg       0.68      0.56      0.56       770\n",
      "weighted avg       0.69      0.69      0.65       770\n",
      "\n",
      "========================================================\n",
      "========================================================\n",
      "\n",
      "Score Confusion Matrix Data Real Naive Bayes :\n",
      "\n",
      "               precision    recall  f1-score   support\n",
      "\n",
      "          -1       0.94      0.84      0.89      2715\n",
      "           0       0.95      0.45      0.61      1279\n",
      "           1       0.77      0.97      0.86      3698\n",
      "\n",
      "    accuracy                           0.84      7692\n",
      "   macro avg       0.89      0.75      0.79      7692\n",
      "weighted avg       0.86      0.84      0.83      7692\n",
      "\n"
     ]
    }
   ],
   "source": [
    "#Nilai Test Confusion Matrix NBC\n",
    "score_nb = classification_report(y_test, preds, zero_division=0)\n",
    "print('Score Confusion Matrix Data Test Naive Bayes :\\n\\n', score_nb)\n",
    "\n",
    "print('========================================================')\n",
    "print('========================================================\\n')\n",
    "\n",
    "#Nilai Data Confusion Matrix NBC\n",
    "score_Dnb = classification_report(y, data_pred, zero_division=0)\n",
    "print('Score Confusion Matrix Data Real Naive Bayes :\\n\\n', score_Dnb)"
   ]
  },
  {
   "cell_type": "code",
   "execution_count": 10,
   "id": "5a494cfc",
   "metadata": {},
   "outputs": [],
   "source": [
    "#Klasifikasi Test Adaboost NBC\n",
    "classifierBoost.fit(x_train, y_train)\n",
    "pred_boost = classifierBoost.predict(x_test)\n",
    "\n",
    "#Klasifikasi Data Adaboost NBC\n",
    "classifierBoost.fit(x_train, y_train)\n",
    "Dpred_boost = classifierBoost.predict(x)"
   ]
  },
  {
   "cell_type": "code",
   "execution_count": 11,
   "id": "8008ecec",
   "metadata": {},
   "outputs": [
    {
     "name": "stdout",
     "output_type": "stream",
     "text": [
      "Confusion Matrix Data Test AdaBoost Naive Bayes :\n",
      "\n",
      " [[  7  31 226]\n",
      " [  8  77  47]\n",
      " [  9  39 326]] \n",
      "\n",
      "========================================\n",
      "========================================\n",
      "\n",
      "Confusion Matrix Data Test Adaboost Naive Bayes :\n",
      "\n",
      " [[  98  247 2370]\n",
      " [  50  801  428]\n",
      " [  68  467 3163]]\n"
     ]
    }
   ],
   "source": [
    "#Confusion Matrix Test Adaboost NBC\n",
    "cm_ad = confusion_matrix(y_test, pred_boost)\n",
    "print('Confusion Matrix Data Test AdaBoost Naive Bayes :\\n\\n', cm_ad,'\\n')\n",
    "\n",
    "print('========================================')\n",
    "print('========================================\\n')\n",
    "\n",
    "#Confusion Matrix Test Adaboost NBC\n",
    "cm_Dad = confusion_matrix(y, Dpred_boost)\n",
    "print('Confusion Matrix Data Real Adaboost Naive Bayes :\\n\\n', cm_Dad)"
   ]
  },
  {
   "cell_type": "code",
   "execution_count": 12,
   "id": "9196af13",
   "metadata": {},
   "outputs": [
    {
     "name": "stdout",
     "output_type": "stream",
     "text": [
      "Score Confusion Matrix Data Test Adaboost Naive Bayes :\n",
      "\n",
      "               precision    recall  f1-score   support\n",
      "\n",
      "          -1       0.29      0.03      0.05       264\n",
      "           0       0.52      0.58      0.55       132\n",
      "           1       0.54      0.87      0.67       374\n",
      "\n",
      "    accuracy                           0.53       770\n",
      "   macro avg       0.45      0.49      0.42       770\n",
      "weighted avg       0.45      0.53      0.44       770\n",
      "\n",
      "========================================================\n",
      "========================================================\n",
      "\n",
      "Score Confusion Matrix Data Test Adaboost Naive Bayes :\n",
      "\n",
      "               precision    recall  f1-score   support\n",
      "\n",
      "          -1       0.45      0.04      0.07      2715\n",
      "           0       0.53      0.63      0.57      1279\n",
      "           1       0.53      0.86      0.65      3698\n",
      "\n",
      "    accuracy                           0.53      7692\n",
      "   macro avg       0.50      0.51      0.43      7692\n",
      "weighted avg       0.50      0.53      0.43      7692\n",
      "\n"
     ]
    }
   ],
   "source": [
    "#Nilai Test Confusion Matrix Adaboost NBC\n",
    "score_ad = classification_report(y_test,pred_boost, zero_division=0)\n",
    "print('Score Confusion Matrix Data Test Adaboost Naive Bayes :\\n\\n', score_ad)\n",
    "\n",
    "print('========================================================')\n",
    "print('========================================================\\n')\n",
    "\n",
    "#Nilai Data Confusion Matrix Adaboost NBC\n",
    "score_Dad =classification_report(y,Dpred_boost, zero_division=0)\n",
    "print('Score Confusion Matrix Data Real Adaboost Naive Bayes :\\n\\n', score_Dad)"
   ]
  },
  {
   "cell_type": "code",
   "execution_count": null,
   "id": "e1c78646",
   "metadata": {},
   "outputs": [],
   "source": []
  }
 ],
 "metadata": {
  "kernelspec": {
   "display_name": "Python 3 (ipykernel)",
   "language": "python",
   "name": "python3"
  },
  "language_info": {
   "codemirror_mode": {
    "name": "ipython",
    "version": 3
   },
   "file_extension": ".py",
   "mimetype": "text/x-python",
   "name": "python",
   "nbconvert_exporter": "python",
   "pygments_lexer": "ipython3",
   "version": "3.10.0"
  }
 },
 "nbformat": 4,
 "nbformat_minor": 5
}
