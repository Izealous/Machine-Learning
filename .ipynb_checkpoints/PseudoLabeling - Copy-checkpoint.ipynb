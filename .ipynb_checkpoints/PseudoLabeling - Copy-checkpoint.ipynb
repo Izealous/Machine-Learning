{
 "cells": [
  {
   "cell_type": "code",
   "execution_count": 7,
   "id": "c2658002",
   "metadata": {},
   "outputs": [],
   "source": [
    "import pandas as pd\n",
    "import numpy as np"
   ]
  },
  {
   "cell_type": "code",
   "execution_count": 59,
   "id": "48ba515c",
   "metadata": {},
   "outputs": [],
   "source": [
    "label = pd.read_csv('labeling/label_bro.csv',sep=';').to_numpy()\n",
    "results = []\n",
    "index = 0"
   ]
  },
  {
   "cell_type": "code",
   "execution_count": 60,
   "id": "785f605e",
   "metadata": {},
   "outputs": [],
   "source": [
    "for x in label:\n",
    "    neutral = 0\n",
    "    negative = 0\n",
    "    positive = 0\n",
    "\n",
    "    for y in x:\n",
    "        if y == 'neutral': neutral +=1\n",
    "        elif y == 'negative': negative +=1\n",
    "        elif y == 'positive': positive +=1\n",
    "\n",
    "    if neutral > 1: results.append('neutral' )\n",
    "    elif negative > 1: results.append('negative')\n",
    "    elif positive > 1: results.append('positive' )\n",
    "    elif neutral == 1 and negative == 1 and positive == 1: results.append( 'x' )\n",
    "\n",
    "    index +=1"
   ]
  },
  {
   "cell_type": "code",
   "execution_count": 61,
   "id": "ddfc67d1",
   "metadata": {},
   "outputs": [],
   "source": [
    "df = pd.DataFrame(results)\n",
    "\n",
    "df"
   ]
  },
  {
   "cell_type": "code",
   "execution_count": null,
   "id": "28ed2d48",
   "metadata": {},
   "outputs": [],
   "source": []
  }
 ],
 "metadata": {
  "kernelspec": {
   "display_name": "Python 3 (ipykernel)",
   "language": "python",
   "name": "python3"
  },
  "language_info": {
   "codemirror_mode": {
    "name": "ipython",
    "version": 3
   },
   "file_extension": ".py",
   "mimetype": "text/x-python",
   "name": "python",
   "nbconvert_exporter": "python",
   "pygments_lexer": "ipython3",
   "version": "3.10.0"
  }
 },
 "nbformat": 4,
 "nbformat_minor": 5
}
