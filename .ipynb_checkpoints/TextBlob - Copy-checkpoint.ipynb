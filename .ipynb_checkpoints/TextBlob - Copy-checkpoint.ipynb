{
 "cells": [
  {
   "cell_type": "code",
   "execution_count": 1,
   "id": "f10af2f0",
   "metadata": {},
   "outputs": [],
   "source": [
    "import pandas as pd\n",
    "import numpy as np\n",
    "from textblob import TextBlob\n",
    "import matplotlib.pyplot as plt"
   ]
  },
  {
   "cell_type": "code",
   "execution_count": 2,
   "id": "5e6c231c",
   "metadata": {
    "scrolled": true
   },
   "outputs": [],
   "source": [
    "data1 = pd.read_csv('hasilpreproces_en_bro.csv')\n",
    "polarity_score = []\n",
    "\n",
    "for i in range(0,data1.shape[0]):\n",
    "    score = TextBlob(data1.iloc[i][0])\n",
    "    score1 = score.sentiment[0]\n",
    "    polarity_score.append(score1)\n",
    "\n",
    "# for index, row in data1.iterrows():\n",
    "#     sentiword = (row['results'])\n",
    "#    polarity_score.append(sentiword)\n",
    "# analysis = TextBlob(data1)\n",
    "    \n",
    "# analysis.sentiment.polarity\n",
    "sentiword = pd.concat([data1, pd.Series(polarity_score)], axis = 1)"
   ]
  },
  {
   "cell_type": "code",
   "execution_count": 3,
   "id": "e44b684f",
   "metadata": {},
   "outputs": [],
   "source": [
    "sentiword.to_csv(\"hasil_TextBlob_bro.csv\")"
   ]
  },
  {
   "cell_type": "code",
   "execution_count": null,
   "id": "8aef8f53",
   "metadata": {},
   "outputs": [],
   "source": []
  },
  {
   "cell_type": "code",
   "execution_count": null,
   "id": "b9005092",
   "metadata": {},
   "outputs": [],
   "source": []
  }
 ],
 "metadata": {
  "kernelspec": {
   "display_name": "Python 3 (ipykernel)",
   "language": "python",
   "name": "python3"
  },
  "language_info": {
   "codemirror_mode": {
    "name": "ipython",
    "version": 3
   },
   "file_extension": ".py",
   "mimetype": "text/x-python",
   "name": "python",
   "nbconvert_exporter": "python",
   "pygments_lexer": "ipython3",
   "version": "3.10.0"
  }
 },
 "nbformat": 4,
 "nbformat_minor": 5
}
