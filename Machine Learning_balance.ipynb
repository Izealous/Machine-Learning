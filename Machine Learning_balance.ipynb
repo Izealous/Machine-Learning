{
 "cells": [
  {
   "cell_type": "code",
   "execution_count": 1,
   "id": "d9d9dd31",
   "metadata": {},
   "outputs": [],
   "source": [
    "import numpy as np\n",
    "import matplotlib.pyplot as plt\n",
    "import pandas as pd\n",
    "from sklearn.feature_extraction.text import TfidfVectorizer\n",
    "from sklearn.model_selection import train_test_split, cross_val_score, cross_validate, cross_val_predict, KFold, StratifiedKFold\n",
    "from sklearn.naive_bayes import BernoulliNB, MultinomialNB\n",
    "from sklearn.metrics import confusion_matrix\n",
    "from sklearn.feature_extraction.text import CountVectorizer\n",
    "from sklearn.metrics import accuracy_score, recall_score, f1_score, classification_report, confusion_matrix, make_scorer, precision_score\n",
    "from sklearn.ensemble import AdaBoostClassifier\n",
    "from sklearn.datasets import make_classification\n",
    "from numpy import mean"
   ]
  },
  {
   "cell_type": "code",
   "execution_count": 2,
   "id": "1d5d284d",
   "metadata": {},
   "outputs": [],
   "source": [
    "#Input Dataset\n",
    "dataset = pd.read_csv('hasilpreproces_balance.csv', delimiter = ';', quoting = 3)\n",
    "corpus = dataset['text'].tolist()\n",
    "# corpus = ['suka tidak bisa sesuai tingkat bawa rasa',\n",
    "#           'tidak usah alas guna tidak tahu sopan santun',\n",
    "#           'suka sama sini tampar',\n",
    "#          ]"
   ]
  },
  {
   "cell_type": "code",
   "execution_count": 3,
   "id": "d91cc9e0",
   "metadata": {},
   "outputs": [
    {
     "data": {
      "text/plain": [
       "array([[0., 0., 0., ..., 0., 0., 0.],\n",
       "       [0., 0., 0., ..., 0., 0., 0.],\n",
       "       [0., 0., 0., ..., 0., 0., 0.],\n",
       "       ...,\n",
       "       [0., 0., 0., ..., 0., 0., 0.],\n",
       "       [0., 0., 0., ..., 0., 0., 0.],\n",
       "       [0., 0., 0., ..., 0., 0., 0.]])"
      ]
     },
     "execution_count": 3,
     "metadata": {},
     "output_type": "execute_result"
    }
   ],
   "source": [
    "#TF IDF\n",
    "vectorizer = TfidfVectorizer()\n",
    "x = vectorizer.fit_transform(corpus).toarray()\n",
    "y = dataset.iloc[:, 1].values\n",
    "x"
   ]
  },
  {
   "cell_type": "code",
   "execution_count": 4,
   "id": "4a41369e",
   "metadata": {},
   "outputs": [
    {
     "name": "stdout",
     "output_type": "stream",
     "text": [
      "[[87  2 31]\n",
      " [35 35 50]\n",
      " [24  3 93]]\n",
      "akurasi =  0.5972222222222222\n",
      "precision =  0.6684577231931979\n",
      "recall =  0.5972222222222222\n",
      "f1 =  0.5747627998567849\n",
      "========================\n",
      "[[ 86   1  33]\n",
      " [ 36  30  54]\n",
      " [ 15   3 102]]\n",
      "akurasi =  0.6055555555555555\n",
      "precision =  0.6832575690454608\n",
      "recall =  0.6055555555555555\n",
      "f1 =  0.5730217549189255\n",
      "========================\n",
      "[[96  3 21]\n",
      " [24 81 15]\n",
      " [29  2 89]]\n",
      "akurasi =  0.7388888888888889\n",
      "precision =  0.7660519223765672\n",
      "recall =  0.7388888888888889\n",
      "f1 =  0.7422310086917793\n",
      "========================\n",
      "[[ 93   2  25]\n",
      " [  8 110   2]\n",
      " [ 34   1  85]]\n",
      "akurasi =  0.8\n",
      "precision =  0.8070895959170296\n",
      "recall =  0.7999999999999999\n",
      "f1 =  0.8021254646597429\n",
      "========================\n",
      "[[ 83   2  35]\n",
      " [  8 107   5]\n",
      " [ 13   2 105]]\n",
      "akurasi =  0.8194444444444444\n",
      "precision =  0.82872627269179\n",
      "recall =  0.8194444444444445\n",
      "f1 =  0.8199770617223447\n",
      "========================\n",
      "[[ 97   2  21]\n",
      " [  5 111   4]\n",
      " [ 14   0 106]]\n",
      "akurasi =  0.8722222222222222\n",
      "precision =  0.8758893622836625\n",
      "recall =  0.8722222222222222\n",
      "f1 =  0.8731483706067077\n",
      "========================\n",
      "[[ 90   2  28]\n",
      " [  5 115   0]\n",
      " [  7   1 112]]\n",
      "akurasi =  0.8805555555555555\n",
      "precision =  0.885643070787637\n",
      "recall =  0.8805555555555555\n",
      "f1 =  0.8795786089903737\n",
      "========================\n",
      "[[ 79   3  38]\n",
      " [  7 111   2]\n",
      " [ 24   1  95]]\n",
      "akurasi =  0.7916666666666666\n",
      "precision =  0.7957009710632899\n",
      "recall =  0.7916666666666666\n",
      "f1 =  0.7922451373395489\n",
      "========================\n",
      "[[ 74   3  43]\n",
      " [  8 109   3]\n",
      " [ 17   4  99]]\n",
      "akurasi =  0.7833333333333333\n",
      "precision =  0.7899628468593987\n",
      "recall =  0.7833333333333332\n",
      "f1 =  0.7822325705460226\n",
      "========================\n",
      "[[ 51  57  12]\n",
      " [  6 111   3]\n",
      " [ 30   2  88]]\n",
      "akurasi =  0.6944444444444444\n",
      "precision =  0.6978390016870492\n",
      "recall =  0.6944444444444445\n",
      "f1 =  0.6825028442430504\n",
      "========================\n"
     ]
    }
   ],
   "source": [
    "#----------Uncomment model yang akan digunakan-----------------\n",
    "# model =  AdaBoostClassifier(base_estimator = MultinomialNB())\n",
    "model = MultinomialNB()\n",
    "fold = StratifiedKFold(10,shuffle=False)\n",
    "for train_index, test_index in fold.split(x, y):\n",
    "    X_train, X_test = x[train_index], x[test_index]\n",
    "    y_train, y_test = y[train_index], y[test_index]\n",
    "    model.fit(X_train, y_train)\n",
    "    y_pred = model.predict(X_test)\n",
    "    cm = confusion_matrix(y_test, y_pred)\n",
    "    accuracy = accuracy_score(y_test, y_pred)\n",
    "    precision = precision_score(y_test, y_pred,average='macro',zero_division=0)\n",
    "    recall = recall_score(y_test, y_pred, average='macro',zero_division=0)\n",
    "    f1 = f1_score(y_test, y_pred, average='macro',zero_division=0)\n",
    "    print(cm)\n",
    "    print('akurasi = ',accuracy)\n",
    "    print('precision = ',precision)\n",
    "    print('recall = ',recall)\n",
    "    print('f1 = ',f1)\n",
    "    print('========================')"
   ]
  },
  {
   "cell_type": "code",
   "execution_count": 4,
   "id": "940b91a2",
   "metadata": {},
   "outputs": [
    {
     "name": "stdout",
     "output_type": "stream",
     "text": [
      "[[63 19 38]\n",
      " [23 85 12]\n",
      " [42 20 58]]\n",
      "akurasi =  0.5722222222222222\n",
      "precision =  0.5715694693349264\n",
      "recall =  0.5722222222222223\n",
      "f1 =  0.5711859191430012\n",
      "========================\n",
      "[[ 79   9  32]\n",
      " [  5 106   9]\n",
      " [ 50  17  53]]\n",
      "akurasi =  0.6611111111111111\n",
      "precision =  0.6521374430234386\n",
      "recall =  0.6611111111111111\n",
      "f1 =  0.6528813960560226\n",
      "========================\n",
      "[[ 47   3  70]\n",
      " [  3 108   9]\n",
      " [ 31   6  83]]\n",
      "akurasi =  0.6611111111111111\n",
      "precision =  0.6718898385565053\n",
      "recall =  0.6611111111111111\n",
      "f1 =  0.655902192958361\n",
      "========================\n",
      "[[ 61   3  56]\n",
      " [  1 119   0]\n",
      " [ 25  11  84]]\n",
      "akurasi =  0.7333333333333333\n",
      "precision =  0.7319620891308731\n",
      "recall =  0.7333333333333334\n",
      "f1 =  0.7254124297602558\n",
      "========================\n",
      "[[ 69   5  46]\n",
      " [  1 119   0]\n",
      " [ 32   8  80]]\n",
      "akurasi =  0.7444444444444445\n",
      "precision =  0.7376354582236936\n",
      "recall =  0.7444444444444445\n",
      "f1 =  0.7388241900437023\n",
      "========================\n",
      "[[ 46   5  69]\n",
      " [  1 119   0]\n",
      " [ 17   3 100]]\n",
      "akurasi =  0.7361111111111112\n",
      "precision =  0.749157950115703\n",
      "recall =  0.7361111111111112\n",
      "f1 =  0.7185347585092622\n",
      "========================\n",
      "[[ 31   4  85]\n",
      " [  1 119   0]\n",
      " [  4   6 110]]\n",
      "akurasi =  0.7222222222222222\n",
      "precision =  0.7825647651229047\n",
      "recall =  0.7222222222222222\n",
      "f1 =  0.6838906296737622\n",
      "========================\n",
      "[[ 25   9  86]\n",
      " [  0 120   0]\n",
      " [  7  17  96]]\n",
      "akurasi =  0.6694444444444444\n",
      "precision =  0.7102134452305685\n",
      "recall =  0.6694444444444444\n",
      "f1 =  0.6223215323075902\n",
      "========================\n",
      "[[ 43   7  70]\n",
      " [  1 119   0]\n",
      " [ 23   8  89]]\n",
      "akurasi =  0.6972222222222222\n",
      "precision =  0.6965330579805377\n",
      "recall =  0.6972222222222223\n",
      "f1 =  0.6782979178951031\n",
      "========================\n",
      "[[ 27  93   0]\n",
      " [  0 117   3]\n",
      " [ 15   8  97]]\n",
      "akurasi =  0.6694444444444444\n",
      "precision =  0.7165181301878549\n",
      "recall =  0.6694444444444444\n",
      "f1 =  0.6358197358197358\n",
      "========================\n"
     ]
    }
   ],
   "source": [
    "model_boost =  AdaBoostClassifier()\n",
    "fold = StratifiedKFold(10,shuffle=False)\n",
    "for train_index, test_index in fold.split(x, y):\n",
    "    X_train, X_test = x[train_index], x[test_index]\n",
    "    y_train, y_test = y[train_index], y[test_index]\n",
    "    model_boost.fit(X_train, y_train)\n",
    "    y_pred = model_boost.predict(X_test)\n",
    "    cm = confusion_matrix(y_test, y_pred)\n",
    "    accuracy = accuracy_score(y_test, y_pred)\n",
    "    precision = precision_score(y_test, y_pred,average='macro',zero_division=0)\n",
    "    recall = recall_score(y_test, y_pred, average='macro',zero_division=0)\n",
    "    f1 = f1_score(y_test, y_pred, average='macro',zero_division=0)\n",
    "    print(cm)\n",
    "    print('akurasi = ',accuracy)\n",
    "    print('precision = ',precision)\n",
    "    print('recall = ',recall)\n",
    "    print('f1 = ',f1)\n",
    "    print('========================')"
   ]
  },
  {
   "cell_type": "code",
   "execution_count": 4,
   "id": "d1a7cc29",
   "metadata": {
    "scrolled": true
   },
   "outputs": [
    {
     "name": "stdout",
     "output_type": "stream",
     "text": [
      "[0.59722222 0.60555556 0.73888889 0.8        0.81944444 0.87222222\n",
      " 0.88055556 0.79166667 0.78333333 0.69444444]\n",
      "Rata - Rata Akurasi :  0.7583333333333334\n"
     ]
    }
   ],
   "source": [
    "#Cross Val NBC\n",
    "classifierNB = MultinomialNB()\n",
    "cv_nb = cross_val_score(classifierNB, x, y, cv = 10)\n",
    "print(cv_nb)\n",
    "print(\"Rata - Rata Akurasi : \",mean(cv_nb))"
   ]
  },
  {
   "cell_type": "code",
   "execution_count": 43,
   "id": "9c5740c9",
   "metadata": {},
   "outputs": [
    {
     "name": "stdout",
     "output_type": "stream",
     "text": [
      "[0.46666667 0.49722222 0.62222222 0.73333333 0.76388889 0.82777778\n",
      " 0.83055556 0.81944444 0.78888889 0.61944444]\n",
      "Rata - Rata Akurasi :  0.6969444444444444\n"
     ]
    }
   ],
   "source": [
    "#Cross Val Adaboost NBC\n",
    "classifierBoost = AdaBoostClassifier(base_estimator = classifierNB, algorithm = \"SAMME\")\n",
    "cv_ada = cross_val_score(classifierBoost, x, y, cv = 10)\n",
    "print(cv_ada)\n",
    "print(\"Rata - Rata Akurasi : \",mean(cv_ada))"
   ]
  },
  {
   "cell_type": "code",
   "execution_count": 5,
   "id": "a6a782c9",
   "metadata": {},
   "outputs": [
    {
     "ename": "NameError",
     "evalue": "name 'model_selection' is not defined",
     "output_type": "error",
     "traceback": [
      "\u001b[1;31m---------------------------------------------------------------------------\u001b[0m",
      "\u001b[1;31mNameError\u001b[0m                                 Traceback (most recent call last)",
      "\u001b[1;32m~\\AppData\\Local\\Temp/ipykernel_10940/2030493846.py\u001b[0m in \u001b[0;36m<module>\u001b[1;34m\u001b[0m\n\u001b[0;32m      4\u001b[0m            'f1_score' : make_scorer(f1_score)}\n\u001b[0;32m      5\u001b[0m \u001b[1;33m\u001b[0m\u001b[0m\n\u001b[1;32m----> 6\u001b[1;33m \u001b[0mkfold\u001b[0m \u001b[1;33m=\u001b[0m \u001b[0mmodel_selection\u001b[0m\u001b[1;33m.\u001b[0m\u001b[0mKFold\u001b[0m\u001b[1;33m(\u001b[0m\u001b[0mn_splits\u001b[0m\u001b[1;33m=\u001b[0m\u001b[1;36m10\u001b[0m\u001b[1;33m)\u001b[0m\u001b[1;33m\u001b[0m\u001b[1;33m\u001b[0m\u001b[0m\n\u001b[0m\u001b[0;32m      7\u001b[0m results = model_selection.cross_val_score(estimator=classifierBoost,\n\u001b[0;32m      8\u001b[0m                                           \u001b[0mX\u001b[0m\u001b[1;33m=\u001b[0m\u001b[0mx\u001b[0m\u001b[1;33m,\u001b[0m\u001b[1;33m\u001b[0m\u001b[1;33m\u001b[0m\u001b[0m\n",
      "\u001b[1;31mNameError\u001b[0m: name 'model_selection' is not defined"
     ]
    }
   ],
   "source": [
    "scoring = {'accuracy' : make_scorer(accuracy_score), \n",
    "           'precision' : make_scorer(precision_score),\n",
    "           'recall' : make_scorer(recall_score), \n",
    "           'f1_score' : make_scorer(f1_score)}\n",
    "\n",
    "kfold = model_selection.KFold(n_splits=10)\n",
    "results = model_selection.cross_val_score(estimator=classifierBoost,\n",
    "                                          X=x,\n",
    "                                          y=y,\n",
    "                                          cv=kfold,\n",
    "                                          scoring=scoring)"
   ]
  },
  {
   "cell_type": "code",
   "execution_count": 29,
   "id": "5d072789",
   "metadata": {},
   "outputs": [],
   "source": [
    "#Split\n",
    "x_train,x_test, y_train, y_test = train_test_split(x, y, train_size = 0.9)"
   ]
  },
  {
   "cell_type": "code",
   "execution_count": 30,
   "id": "bb7abf44",
   "metadata": {},
   "outputs": [],
   "source": [
    "#Klasifikasi Data NBC\n",
    "classifierNB.fit(x_train, y_train)\n",
    "data_pred = classifierNB.predict(x)"
   ]
  },
  {
   "cell_type": "code",
   "execution_count": 31,
   "id": "30e86e18",
   "metadata": {},
   "outputs": [
    {
     "name": "stdout",
     "output_type": "stream",
     "text": [
      "Confusion Matrix Data Real Naive Bayes :\n",
      "\n",
      " [[1124   13   63]\n",
      " [  50 1106   44]\n",
      " [  55    1 1144]]\n"
     ]
    }
   ],
   "source": [
    "#Confusion Matrix Data NBC\n",
    "cm_Dnb = confusion_matrix(y, data_pred)\n",
    "print('Confusion Matrix Data Real Naive Bayes :\\n\\n', cm_Dnb)"
   ]
  },
  {
   "cell_type": "code",
   "execution_count": 32,
   "id": "6a66105b",
   "metadata": {},
   "outputs": [
    {
     "name": "stdout",
     "output_type": "stream",
     "text": [
      "Score Confusion Matrix Data Real Naive Bayes :\n",
      "\n",
      "               precision    recall  f1-score   support\n",
      "\n",
      "          -1       0.91      0.94      0.93      1200\n",
      "           0       0.99      0.92      0.95      1200\n",
      "           1       0.91      0.95      0.93      1200\n",
      "\n",
      "    accuracy                           0.94      3600\n",
      "   macro avg       0.94      0.94      0.94      3600\n",
      "weighted avg       0.94      0.94      0.94      3600\n",
      "\n"
     ]
    }
   ],
   "source": [
    "#Nilai Data Confusion Matrix NBC\n",
    "score_Dnb = classification_report(y, data_pred, zero_division=0)\n",
    "print('Score Confusion Matrix Data Real Naive Bayes :\\n\\n', score_Dnb)"
   ]
  },
  {
   "cell_type": "code",
   "execution_count": 33,
   "id": "5a494cfc",
   "metadata": {},
   "outputs": [],
   "source": [
    "#Klasifikasi Data Adaboost NBC\n",
    "classifierBoost.fit(x_train, y_train)\n",
    "Dpred_boost = classifierBoost.predict(x)"
   ]
  },
  {
   "cell_type": "code",
   "execution_count": 34,
   "id": "8008ecec",
   "metadata": {},
   "outputs": [
    {
     "name": "stdout",
     "output_type": "stream",
     "text": [
      "Confusion Matrix Data Real Adaboost Naive Bayes :\n",
      "\n",
      " [[1063   86   51]\n",
      " [ 387  802   11]\n",
      " [ 579    1  620]]\n"
     ]
    }
   ],
   "source": [
    "#Confusion Matrix Test Adaboost NBC\n",
    "cm_Dad = confusion_matrix(y, Dpred_boost)\n",
    "print('Confusion Matrix Data Real Adaboost Naive Bayes :\\n\\n', cm_Dad)"
   ]
  },
  {
   "cell_type": "code",
   "execution_count": 35,
   "id": "9196af13",
   "metadata": {},
   "outputs": [
    {
     "name": "stdout",
     "output_type": "stream",
     "text": [
      "Score Confusion Matrix Data Real Adaboost Naive Bayes :\n",
      "\n",
      "               precision    recall  f1-score   support\n",
      "\n",
      "          -1       0.52      0.89      0.66      1200\n",
      "           0       0.90      0.67      0.77      1200\n",
      "           1       0.91      0.52      0.66      1200\n",
      "\n",
      "    accuracy                           0.69      3600\n",
      "   macro avg       0.78      0.69      0.70      3600\n",
      "weighted avg       0.78      0.69      0.70      3600\n",
      "\n"
     ]
    }
   ],
   "source": [
    "#Nilai Data Confusion Matrix Adaboost NBC\n",
    "score_Dad =classification_report(y,Dpred_boost, zero_division=0)\n",
    "print('Score Confusion Matrix Data Real Adaboost Naive Bayes :\\n\\n', score_Dad)"
   ]
  },
  {
   "cell_type": "code",
   "execution_count": null,
   "id": "6c23fa5e",
   "metadata": {},
   "outputs": [],
   "source": []
  }
 ],
 "metadata": {
  "kernelspec": {
   "display_name": "Python 3 (ipykernel)",
   "language": "python",
   "name": "python3"
  },
  "language_info": {
   "codemirror_mode": {
    "name": "ipython",
    "version": 3
   },
   "file_extension": ".py",
   "mimetype": "text/x-python",
   "name": "python",
   "nbconvert_exporter": "python",
   "pygments_lexer": "ipython3",
   "version": "3.10.0"
  }
 },
 "nbformat": 4,
 "nbformat_minor": 5
}
