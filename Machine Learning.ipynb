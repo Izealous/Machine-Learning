{
 "cells": [
  {
   "cell_type": "code",
   "execution_count": 1,
   "id": "d9d9dd31",
   "metadata": {},
   "outputs": [],
   "source": [
    "import numpy as np\n",
    "import matplotlib.pyplot as plt\n",
    "import pandas as pd\n",
    "from sklearn.feature_extraction.text import TfidfVectorizer\n",
    "from sklearn.model_selection import train_test_split, cross_val_score, cross_validate, cross_val_predict, KFold, StratifiedKFold\n",
    "from sklearn.naive_bayes import BernoulliNB, MultinomialNB\n",
    "from sklearn.metrics import confusion_matrix\n",
    "from sklearn.feature_extraction.text import CountVectorizer\n",
    "from sklearn.metrics import accuracy_score, recall_score, f1_score, classification_report, confusion_matrix, make_scorer, precision_score\n",
    "from sklearn.ensemble import AdaBoostClassifier\n",
    "from sklearn.datasets import make_classification\n",
    "from numpy import mean"
   ]
  },
  {
   "cell_type": "code",
   "execution_count": 2,
   "id": "1d5d284d",
   "metadata": {},
   "outputs": [],
   "source": [
    "#Input Dataset\n",
    "dataset = pd.read_csv('hasilpreproces_labeled.csv', delimiter = ';', quoting = 3)\n",
    "corpus = dataset['text'].tolist()\n",
    "# corpus = ['suka tidak bisa sesuai tingkat bawa rasa',\n",
    "#           'tidak usah alas guna tidak tahu sopan santun',\n",
    "#           'suka sama sini tampar',\n",
    "#          ]"
   ]
  },
  {
   "cell_type": "code",
   "execution_count": 3,
   "id": "e201990e",
   "metadata": {},
   "outputs": [
    {
     "data": {
      "text/html": [
       "<div>\n",
       "<style scoped>\n",
       "    .dataframe tbody tr th:only-of-type {\n",
       "        vertical-align: middle;\n",
       "    }\n",
       "\n",
       "    .dataframe tbody tr th {\n",
       "        vertical-align: top;\n",
       "    }\n",
       "\n",
       "    .dataframe thead th {\n",
       "        text-align: right;\n",
       "    }\n",
       "</style>\n",
       "<table border=\"1\" class=\"dataframe\">\n",
       "  <thead>\n",
       "    <tr style=\"text-align: right;\">\n",
       "      <th></th>\n",
       "      <th>text</th>\n",
       "      <th>Label</th>\n",
       "    </tr>\n",
       "  </thead>\n",
       "  <tbody>\n",
       "    <tr>\n",
       "      <th>0</th>\n",
       "      <td>desain rumah cinta darkjokes</td>\n",
       "      <td>1</td>\n",
       "    </tr>\n",
       "    <tr>\n",
       "      <th>1</th>\n",
       "      <td>sayang marah ayo natal lucu istighfar takut la...</td>\n",
       "      <td>-1</td>\n",
       "    </tr>\n",
       "    <tr>\n",
       "      <th>2</th>\n",
       "      <td>bahas politik perintah kelas epic bahas darkjo...</td>\n",
       "      <td>1</td>\n",
       "    </tr>\n",
       "    <tr>\n",
       "      <th>3</th>\n",
       "      <td>dirs canda sabar</td>\n",
       "      <td>1</td>\n",
       "    </tr>\n",
       "    <tr>\n",
       "      <th>4</th>\n",
       "      <td>kids better watch out santa likes witnesses</td>\n",
       "      <td>1</td>\n",
       "    </tr>\n",
       "    <tr>\n",
       "      <th>...</th>\n",
       "      <td>...</td>\n",
       "      <td>...</td>\n",
       "    </tr>\n",
       "    <tr>\n",
       "      <th>7687</th>\n",
       "      <td>nasehatin akun apa satir akun</td>\n",
       "      <td>0</td>\n",
       "    </tr>\n",
       "    <tr>\n",
       "      <th>7688</th>\n",
       "      <td>asa satir</td>\n",
       "      <td>0</td>\n",
       "    </tr>\n",
       "    <tr>\n",
       "      <th>7689</th>\n",
       "      <td>satir buat lemah paham cinta</td>\n",
       "      <td>1</td>\n",
       "    </tr>\n",
       "    <tr>\n",
       "      <th>7690</th>\n",
       "      <td>gus nur kritis said aqil yaqut penjara bln alm...</td>\n",
       "      <td>0</td>\n",
       "    </tr>\n",
       "    <tr>\n",
       "      <th>7691</th>\n",
       "      <td>should learn english cant speakwrite english u...</td>\n",
       "      <td>1</td>\n",
       "    </tr>\n",
       "  </tbody>\n",
       "</table>\n",
       "<p>7692 rows × 2 columns</p>\n",
       "</div>"
      ],
      "text/plain": [
       "                                                   text  Label\n",
       "0                          desain rumah cinta darkjokes      1\n",
       "1     sayang marah ayo natal lucu istighfar takut la...     -1\n",
       "2     bahas politik perintah kelas epic bahas darkjo...      1\n",
       "3                                      dirs canda sabar      1\n",
       "4           kids better watch out santa likes witnesses      1\n",
       "...                                                 ...    ...\n",
       "7687                      nasehatin akun apa satir akun      0\n",
       "7688                                          asa satir      0\n",
       "7689                       satir buat lemah paham cinta      1\n",
       "7690  gus nur kritis said aqil yaqut penjara bln alm...      0\n",
       "7691  should learn english cant speakwrite english u...      1\n",
       "\n",
       "[7692 rows x 2 columns]"
      ]
     },
     "execution_count": 3,
     "metadata": {},
     "output_type": "execute_result"
    }
   ],
   "source": [
    "dataset"
   ]
  },
  {
   "cell_type": "code",
   "execution_count": 4,
   "id": "d91cc9e0",
   "metadata": {},
   "outputs": [],
   "source": [
    "#TF IDF\n",
    "vectorizer = TfidfVectorizer()\n",
    "x = vectorizer.fit_transform(corpus).toarray()\n",
    "y = dataset.iloc[:, 1].values"
   ]
  },
  {
   "cell_type": "code",
   "execution_count": 18,
   "id": "d0f3e572",
   "metadata": {},
   "outputs": [
    {
     "name": "stdout",
     "output_type": "stream",
     "text": [
      "[[154   0 118]\n",
      " [ 15   1 112]\n",
      " [ 26   0 344]]\n",
      "akurasi =  0.6480519480519481\n",
      "precision =  0.7331849567389637\n",
      "recall =  0.6480519480519481\n",
      "f1 =  0.5857628260106696\n",
      "========================\n",
      "[[162   0 110]\n",
      " [ 25   5  98]\n",
      " [ 28   0 342]]\n",
      "akurasi =  0.6610389610389611\n",
      "precision =  0.7311968369896488\n",
      "recall =  0.6610389610389611\n",
      "f1 =  0.6047688341537641\n",
      "========================\n",
      "[[116   0 156]\n",
      " [ 20   1 106]\n",
      " [ 20   0 350]]\n",
      "akurasi =  0.6072821846553966\n",
      "precision =  0.7033260304888852\n",
      "recall =  0.6072821846553966\n",
      "f1 =  0.5372835910423945\n",
      "========================\n",
      "[[166   0 105]\n",
      " [ 18   3 107]\n",
      " [ 39   0 331]]\n",
      "akurasi =  0.6501950585175552\n",
      "precision =  0.7220731076576729\n",
      "recall =  0.6501950585175552\n",
      "f1 =  0.593332307386487\n",
      "========================\n",
      "[[148   1 122]\n",
      " [  6   9 113]\n",
      " [ 23   0 347]]\n",
      "akurasi =  0.6553966189856957\n",
      "precision =  0.7313397199310063\n",
      "recall =  0.6553966189856957\n",
      "f1 =  0.6053005388280714\n",
      "========================\n",
      "[[155   0 116]\n",
      " [ 12   7 109]\n",
      " [ 22   0 348]]\n",
      "akurasi =  0.6631989596879063\n",
      "precision =  0.7476732368445955\n",
      "recall =  0.6631989596879063\n",
      "f1 =  0.609870487559213\n",
      "========================\n",
      "[[160   0 111]\n",
      " [ 13   3 112]\n",
      " [ 19   0 351]]\n",
      "akurasi =  0.6684005201560468\n",
      "precision =  0.7543402974434724\n",
      "recall =  0.6684005201560468\n",
      "f1 =  0.6089871475777822\n",
      "========================\n",
      "[[125   0 146]\n",
      " [ 14   3 111]\n",
      " [ 32   0 338]]\n",
      "akurasi =  0.6059817945383615\n",
      "precision =  0.6973787895373968\n",
      "recall =  0.6059817945383615\n",
      "f1 =  0.5439985022767649\n",
      "========================\n",
      "[[ 82   1 189]\n",
      " [ 12   6 110]\n",
      " [  8   5 356]]\n",
      "akurasi =  0.577373211963589\n",
      "precision =  0.6283776227015688\n",
      "recall =  0.577373211963589\n",
      "f1 =  0.5030097117609308\n",
      "========================\n",
      "[[106   2 164]\n",
      " [ 20  12  96]\n",
      " [  8   0 361]]\n",
      "akurasi =  0.6228868660598179\n",
      "precision =  0.70141184810868\n",
      "recall =  0.6228868660598179\n",
      "f1 =  0.5627730173943286\n",
      "========================\n"
     ]
    }
   ],
   "source": [
    "model = MultinomialNB()\n",
    "fold = StratifiedKFold(10,shuffle=False)\n",
    "for train_index, test_index in fold.split(x, y):\n",
    "    X_train, X_test = x[train_index], x[test_index]\n",
    "    y_train, y_test = y[train_index], y[test_index]\n",
    "    model.fit(X_train, y_train)\n",
    "    y_pred = model.predict(X_test)\n",
    "    cm = confusion_matrix(y_test, y_pred)\n",
    "    accuracy = accuracy_score(y_test, y_pred)\n",
    "    precision = precision_score(y_test, y_pred,average='weighted',zero_division=0)\n",
    "    recall = recall_score(y_test, y_pred, average='weighted',zero_division=0)\n",
    "    f1 = f1_score(y_test, y_pred, average='weighted',zero_division=0)\n",
    "    print(cm)\n",
    "    print('akurasi = ',accuracy)\n",
    "    print('precision = ',precision)\n",
    "    print('recall = ',recall)\n",
    "    print('f1 = ',f1)\n",
    "    print('========================')"
   ]
  },
  {
   "cell_type": "code",
   "execution_count": 19,
   "id": "eb795ce1",
   "metadata": {},
   "outputs": [
    {
     "name": "stdout",
     "output_type": "stream",
     "text": [
      "[[  0   0 272]\n",
      " [  0   0 128]\n",
      " [  0   0 370]]\n",
      "akurasi =  0.4805194805194805\n",
      "precision =  0.2308989711587114\n",
      "recall =  0.4805194805194805\n",
      "f1 =  0.3119161540214172\n",
      "========================\n",
      "[[  0   0 272]\n",
      " [  0   0 128]\n",
      " [  0   0 370]]\n",
      "akurasi =  0.4805194805194805\n",
      "precision =  0.2308989711587114\n",
      "recall =  0.4805194805194805\n",
      "f1 =  0.3119161540214172\n",
      "========================\n",
      "[[  0   0 272]\n",
      " [  0   0 127]\n",
      " [  0   0 370]]\n",
      "akurasi =  0.4811443433029909\n",
      "precision =  0.23149987909246636\n",
      "recall =  0.4811443433029909\n",
      "f1 =  0.3125959736999238\n",
      "========================\n",
      "[[  0   0 271]\n",
      " [  0   1 127]\n",
      " [  0   0 370]]\n",
      "akurasi =  0.48244473342002603\n",
      "precision =  0.3982512462071955\n",
      "recall =  0.48244473342002603\n",
      "f1 =  0.31545128175174125\n",
      "========================\n",
      "[[  0   0 271]\n",
      " [  0   0 128]\n",
      " [  0   0 370]]\n",
      "akurasi =  0.4811443433029909\n",
      "precision =  0.23149987909246636\n",
      "recall =  0.4811443433029909\n",
      "f1 =  0.3125959736999238\n",
      "========================\n",
      "[[  0   0 271]\n",
      " [  0   0 128]\n",
      " [  0   0 370]]\n",
      "akurasi =  0.4811443433029909\n",
      "precision =  0.23149987909246636\n",
      "recall =  0.4811443433029909\n",
      "f1 =  0.3125959736999238\n",
      "========================\n",
      "[[  0   0 271]\n",
      " [  0   1 127]\n",
      " [  0   0 370]]\n",
      "akurasi =  0.48244473342002603\n",
      "precision =  0.3982512462071955\n",
      "recall =  0.48244473342002603\n",
      "f1 =  0.31545128175174125\n",
      "========================\n",
      "[[  0   0 271]\n",
      " [  0   1 127]\n",
      " [  0   0 370]]\n",
      "akurasi =  0.48244473342002603\n",
      "precision =  0.3982512462071955\n",
      "recall =  0.48244473342002603\n",
      "f1 =  0.31545128175174125\n",
      "========================\n",
      "[[  0   0 272]\n",
      " [  0   0 128]\n",
      " [  0   0 369]]\n",
      "akurasi =  0.4798439531859558\n",
      "precision =  0.2302502194091257\n",
      "recall =  0.4798439531859558\n",
      "f1 =  0.31118175522955654\n",
      "========================\n",
      "[[  0   0 272]\n",
      " [  0   0 128]\n",
      " [  0   0 369]]\n",
      "akurasi =  0.4798439531859558\n",
      "precision =  0.2302502194091257\n",
      "recall =  0.4798439531859558\n",
      "f1 =  0.31118175522955654\n",
      "========================\n"
     ]
    }
   ],
   "source": [
    "model_boost =  AdaBoostClassifier(base_estimator = MultinomialNB())\n",
    "fold = StratifiedKFold(10,shuffle=False)\n",
    "for train_index, test_index in fold.split(x, y):\n",
    "    X_train, X_test = x[train_index], x[test_index]\n",
    "    y_train, y_test = y[train_index], y[test_index]\n",
    "    model_boost.fit(X_train, y_train)\n",
    "    y_pred = model_boost.predict(X_test)\n",
    "    cm = confusion_matrix(y_test, y_pred)\n",
    "    accuracy = accuracy_score(y_test, y_pred)\n",
    "    precision = precision_score(y_test, y_pred,average='weighted',zero_division=0)\n",
    "    recall = recall_score(y_test, y_pred, average='weighted',zero_division=0)\n",
    "    f1 = f1_score(y_test, y_pred, average='weighted',zero_division=0)\n",
    "    print(cm)\n",
    "    print('akurasi = ',accuracy)\n",
    "    print('precision = ',precision)\n",
    "    print('recall = ',recall)\n",
    "    print('f1 = ',f1)\n",
    "    print('========================')"
   ]
  },
  {
   "cell_type": "code",
   "execution_count": 7,
   "id": "c5e9b17b",
   "metadata": {},
   "outputs": [
    {
     "name": "stdout",
     "output_type": "stream",
     "text": [
      "[[209  24  39]\n",
      " [  4 120   4]\n",
      " [137  51 182]]\n",
      "akurasi =  0.6636363636363637\n",
      "precision =  0.7019233464947751\n",
      "recall =  0.6636363636363637\n",
      "f1 =  0.6548731131093032\n",
      "========================\n",
      "[[100  10 162]\n",
      " [  3 114  11]\n",
      " [ 11  21 338]]\n",
      "akurasi =  0.7168831168831169\n",
      "precision =  0.75839842353216\n",
      "recall =  0.7168831168831169\n",
      "f1 =  0.6905693444034321\n",
      "========================\n",
      "[[236  11  25]\n",
      " [  2 111  14]\n",
      " [170  27 173]]\n",
      "akurasi =  0.6762028608582574\n",
      "precision =  0.7202575212646525\n",
      "recall =  0.6762028608582574\n",
      "f1 =  0.6643924702885241\n",
      "========================\n",
      "[[ 97  15 159]\n",
      " [  2 117   9]\n",
      " [ 17  23 330]]\n",
      "akurasi =  0.7074122236671001\n",
      "precision =  0.7391575379659209\n",
      "recall =  0.7074122236671001\n",
      "f1 =  0.6801352282955904\n",
      "========================\n",
      "[[ 77  12 182]\n",
      " [  0 122   6]\n",
      " [ 16  27 327]]\n",
      "akurasi =  0.6840052015604682\n",
      "precision =  0.7234098462169685\n",
      "recall =  0.6840052015604682\n",
      "f1 =  0.6451843681660008\n",
      "========================\n",
      "[[222  10  39]\n",
      " [  2 125   1]\n",
      " [145  23 202]]\n",
      "akurasi =  0.7139141742522757\n",
      "precision =  0.7453178782807879\n",
      "recall =  0.7139141742522757\n",
      "f1 =  0.7075978256192247\n",
      "========================\n",
      "[[229  11  31]\n",
      " [  1 127   0]\n",
      " [136  41 193]]\n",
      "akurasi =  0.7139141742522757\n",
      "precision =  0.7531474572234862\n",
      "recall =  0.7139141742522757\n",
      "f1 =  0.7037551551012616\n",
      "========================\n",
      "[[145  13 113]\n",
      " [  0 126   2]\n",
      " [139  75 156]]\n",
      "akurasi =  0.5552665799739922\n",
      "precision =  0.5548973887216454\n",
      "recall =  0.5552665799739922\n",
      "f1 =  0.5409791896247563\n",
      "========================\n",
      "[[ 53  70 149]\n",
      " [  0 125   3]\n",
      " [ 17 109 243]]\n",
      "akurasi =  0.5474642392717816\n",
      "precision =  0.6314427820303833\n",
      "recall =  0.5474642392717816\n",
      "f1 =  0.5111944527093266\n",
      "========================\n",
      "[[ 64 161  47]\n",
      " [  0 126   2]\n",
      " [  9 173 187]]\n",
      "akurasi =  0.49024707412223667\n",
      "precision =  0.7359066530691989\n",
      "recall =  0.49024707412223667\n",
      "f1 =  0.49919658751003804\n",
      "========================\n"
     ]
    }
   ],
   "source": [
    "model_boost =  AdaBoostClassifier()\n",
    "fold = StratifiedKFold(10,shuffle=False)\n",
    "for train_index, test_index in fold.split(x, y):\n",
    "    X_train, X_test = x[train_index], x[test_index]\n",
    "    y_train, y_test = y[train_index], y[test_index]\n",
    "    model_boost.fit(X_train, y_train)\n",
    "    y_pred = model_boost.predict(X_test)\n",
    "    cm = confusion_matrix(y_test, y_pred)\n",
    "    accuracy = accuracy_score(y_test, y_pred)\n",
    "    precision = precision_score(y_test, y_pred,average='weighted',zero_division=0)\n",
    "    recall = recall_score(y_test, y_pred, average='weighted',zero_division=0)\n",
    "    f1 = f1_score(y_test, y_pred, average='weighted',zero_division=0)\n",
    "    print(cm)\n",
    "    print('akurasi = ',accuracy)\n",
    "    print('precision = ',precision)\n",
    "    print('recall = ',recall)\n",
    "    print('f1 = ',f1)\n",
    "    print('========================')"
   ]
  },
  {
   "cell_type": "code",
   "execution_count": 34,
   "id": "51db1f2c",
   "metadata": {},
   "outputs": [
    {
     "data": {
      "text/plain": [
       "{'fit_time': array([16.52540612, 16.54448032, 16.43428326, 16.66120028, 16.51664162,\n",
       "        16.57115126, 16.24582267, 16.86314607, 18.53725052, 16.92975783]),\n",
       " 'score_time': array([0.85302711, 0.87496328, 0.87145543, 0.87206912, 0.89068151,\n",
       "        0.87408352, 0.88496447, 0.9108429 , 1.01925778, 0.90326476]),\n",
       " 'test_accuracy': array([0.48051948, 0.48051948, 0.48114434, 0.48244473, 0.48114434,\n",
       "        0.48114434, 0.48244473, 0.48244473, 0.47984395, 0.47984395]),\n",
       " 'test_precision': array([0.48051948, 0.48051948, 0.48114434, 0.48244473, 0.48114434,\n",
       "        0.48114434, 0.48244473, 0.48244473, 0.47984395, 0.47984395]),\n",
       " 'test_recall': array([0.48051948, 0.48051948, 0.48114434, 0.48244473, 0.48114434,\n",
       "        0.48114434, 0.48244473, 0.48244473, 0.47984395, 0.47984395]),\n",
       " 'test_f1_score': array([0.48051948, 0.48051948, 0.48114434, 0.48244473, 0.48114434,\n",
       "        0.48114434, 0.48244473, 0.48244473, 0.47984395, 0.47984395])}"
      ]
     },
     "execution_count": 34,
     "metadata": {},
     "output_type": "execute_result"
    }
   ],
   "source": [
    "classifierBoost = AdaBoostClassifier(base_estimator = MultinomialNB())\n",
    "results_boost = cross_validate(estimator= classifierBoost,\n",
    "                                          X = x,\n",
    "                                          y = y,\n",
    "                                          cv=10,\n",
    "                                          scoring=scoring)\n",
    "results_boost"
   ]
  },
  {
   "cell_type": "code",
   "execution_count": 6,
   "id": "d1a7cc29",
   "metadata": {},
   "outputs": [
    {
     "name": "stdout",
     "output_type": "stream",
     "text": [
      "[0.64805195 0.66103896 0.60728218 0.65019506 0.65539662 0.66319896\n",
      " 0.66840052 0.60598179 0.57737321 0.62288687]\n",
      "Rata - Rata Akurasi :  0.6359806123655278\n"
     ]
    }
   ],
   "source": [
    "#Cross Val NBC\n",
    "classifierNB = MultinomialNB()\n",
    "cv_nb = cross_val_score(classifierNB, x, y, cv = 10)\n",
    "print(cv_nb)\n",
    "print(\"Rata - Rata Akurasi : \",mean(cv_nb))"
   ]
  },
  {
   "cell_type": "code",
   "execution_count": 19,
   "id": "047f3f54",
   "metadata": {},
   "outputs": [
    {
     "ename": "TypeError",
     "evalue": "recall_score() missing 2 required positional arguments: 'y_true' and 'y_pred'",
     "output_type": "error",
     "traceback": [
      "\u001b[1;31m---------------------------------------------------------------------------\u001b[0m",
      "\u001b[1;31mTypeError\u001b[0m                                 Traceback (most recent call last)",
      "\u001b[1;32m~\\AppData\\Local\\Temp/ipykernel_15456/2978406308.py\u001b[0m in \u001b[0;36m<module>\u001b[1;34m\u001b[0m\n\u001b[0;32m      1\u001b[0m \u001b[1;31m#Cross Val NBC\u001b[0m\u001b[1;33m\u001b[0m\u001b[1;33m\u001b[0m\u001b[0m\n\u001b[0;32m      2\u001b[0m \u001b[0mclassifierNB\u001b[0m \u001b[1;33m=\u001b[0m \u001b[0mMultinomialNB\u001b[0m\u001b[1;33m(\u001b[0m\u001b[1;33m)\u001b[0m\u001b[1;33m\u001b[0m\u001b[1;33m\u001b[0m\u001b[0m\n\u001b[1;32m----> 3\u001b[1;33m \u001b[0mcv_nb_f1\u001b[0m \u001b[1;33m=\u001b[0m \u001b[0mcross_val_score\u001b[0m\u001b[1;33m(\u001b[0m\u001b[0mclassifierNB\u001b[0m\u001b[1;33m,\u001b[0m \u001b[0mx\u001b[0m\u001b[1;33m,\u001b[0m \u001b[0my\u001b[0m\u001b[1;33m,\u001b[0m \u001b[0mcv\u001b[0m \u001b[1;33m=\u001b[0m \u001b[1;36m10\u001b[0m\u001b[1;33m,\u001b[0m\u001b[0mscoring\u001b[0m\u001b[1;33m=\u001b[0m\u001b[0mrecall_score\u001b[0m\u001b[1;33m(\u001b[0m\u001b[0maverage\u001b[0m\u001b[1;33m=\u001b[0m\u001b[1;34m'micro'\u001b[0m\u001b[1;33m)\u001b[0m\u001b[1;33m)\u001b[0m\u001b[1;33m\u001b[0m\u001b[1;33m\u001b[0m\u001b[0m\n\u001b[0m\u001b[0;32m      4\u001b[0m \u001b[0mprint\u001b[0m\u001b[1;33m(\u001b[0m\u001b[0mcv_nb_f1\u001b[0m\u001b[1;33m)\u001b[0m\u001b[1;33m\u001b[0m\u001b[1;33m\u001b[0m\u001b[0m\n\u001b[0;32m      5\u001b[0m \u001b[0mprint\u001b[0m\u001b[1;33m(\u001b[0m\u001b[1;34m\"Rata - Rata f1 : \"\u001b[0m\u001b[1;33m,\u001b[0m\u001b[0mmean\u001b[0m\u001b[1;33m(\u001b[0m\u001b[0mcv_nb_f1\u001b[0m\u001b[1;33m)\u001b[0m\u001b[1;33m)\u001b[0m\u001b[1;33m\u001b[0m\u001b[1;33m\u001b[0m\u001b[0m\n",
      "\u001b[1;31mTypeError\u001b[0m: recall_score() missing 2 required positional arguments: 'y_true' and 'y_pred'"
     ]
    }
   ],
   "source": [
    "#Cross Val NBC\n",
    "classifierNB = MultinomialNB()\n",
    "cv_nb_f1 = cross_val_score(classifierNB, x, y, cv = 10,scoring=recall_score(average='micro'))\n",
    "print(cv_nb_f1)\n",
    "print(\"Rata - Rata f1 : \",mean(cv_nb_f1))\n"
   ]
  },
  {
   "cell_type": "code",
   "execution_count": 8,
   "id": "9c5740c9",
   "metadata": {},
   "outputs": [
    {
     "name": "stdout",
     "output_type": "stream",
     "text": [
      "[0.48051948 0.48051948 0.48114434 0.48244473 0.48114434 0.48114434\n",
      " 0.48244473 0.48244473 0.47984395 0.47984395]\n",
      "Rata - Rata Akurasi :  0.48114940975799236\n"
     ]
    }
   ],
   "source": [
    "#Cross Val Adaboost NBC\n",
    "classifierBoost = AdaBoostClassifier(base_estimator = classifierNB)\n",
    "cv_ada = cross_val_score(classifierBoost, x, y, cv = 10)\n",
    "print(cv_ada)\n",
    "print(\"Rata - Rata Akurasi : \",mean(cv_ada))"
   ]
  },
  {
   "cell_type": "code",
   "execution_count": 41,
   "id": "5d072789",
   "metadata": {},
   "outputs": [],
   "source": [
    "#Split\n",
    "x_train,x_test, y_train, y_test = train_test_split(x, y, test_size = 0.1)"
   ]
  },
  {
   "cell_type": "code",
   "execution_count": 51,
   "id": "bb7abf44",
   "metadata": {},
   "outputs": [],
   "source": [
    "#Test Klasifikasi NBC\n",
    "classifierNB.fit(x_train, y_train)\n",
    "preds = classifierNB.predict(x_test)\n",
    "\n",
    "#Klasifikasi Data NBC\n",
    "classifierNB.fit(x_train, y_train)\n",
    "data_pred = classifierNB.predict(x)"
   ]
  },
  {
   "cell_type": "code",
   "execution_count": 52,
   "id": "30e86e18",
   "metadata": {},
   "outputs": [
    {
     "name": "stdout",
     "output_type": "stream",
     "text": [
      "Confusion Matrix Data Test Naive Bayes :\n",
      "\n",
      " [[148   0  97]\n",
      " [ 12   6 101]\n",
      " [ 23   1 382]] \n",
      "\n",
      "========================================\n",
      "========================================\n",
      "\n",
      "Confusion Matrix Data Real Naive Bayes :\n",
      "\n",
      " [[2204    2  509]\n",
      " [  98  398  783]\n",
      " [  61    1 3636]]\n"
     ]
    }
   ],
   "source": [
    "#Confusion Matrix Test NBC\n",
    "cm_nb = confusion_matrix(y_test, preds)\n",
    "print('Confusion Matrix Data Test Naive Bayes :\\n\\n', cm_nb,'\\n')\n",
    "\n",
    "print('========================================')\n",
    "print('========================================\\n')\n",
    "\n",
    "#Confusion Matrix Data NBC\n",
    "cm_Dnb = confusion_matrix(y, data_pred)\n",
    "print('Confusion Matrix Data Real Naive Bayes :\\n\\n', cm_Dnb)"
   ]
  },
  {
   "cell_type": "code",
   "execution_count": 30,
   "id": "6a66105b",
   "metadata": {},
   "outputs": [
    {
     "name": "stdout",
     "output_type": "stream",
     "text": [
      "Score Confusion Matrix Data Test Naive Bayes :\n",
      "\n",
      "               precision    recall  f1-score   support\n",
      "\n",
      "          -1       0.79      0.53      0.64       270\n",
      "           0       1.00      0.04      0.08       117\n",
      "           1       0.62      0.95      0.75       383\n",
      "\n",
      "    accuracy                           0.67       770\n",
      "   macro avg       0.81      0.51      0.49       770\n",
      "weighted avg       0.74      0.67      0.61       770\n",
      "\n",
      "========================================================\n",
      "========================================================\n",
      "\n",
      "Score Confusion Matrix Data Real Naive Bayes :\n",
      "\n",
      "               precision    recall  f1-score   support\n",
      "\n",
      "          -1       0.94      0.80      0.86      2715\n",
      "           0       1.00      0.32      0.49      1279\n",
      "           1       0.73      0.98      0.84      3698\n",
      "\n",
      "    accuracy                           0.81      7692\n",
      "   macro avg       0.89      0.70      0.73      7692\n",
      "weighted avg       0.85      0.81      0.79      7692\n",
      "\n"
     ]
    }
   ],
   "source": [
    "#Nilai Test Confusion Matrix NBC\n",
    "score_nb = classification_report(y_test, preds, zero_division=0)\n",
    "print('Score Confusion Matrix Data Test Naive Bayes :\\n\\n', score_nb)\n",
    "\n",
    "print('========================================================')\n",
    "print('========================================================\\n')\n",
    "\n",
    "#Nilai Data Confusion Matrix NBC\n",
    "score_Dnb = classification_report(y, data_pred, zero_division=0)\n",
    "print('Score Confusion Matrix Data Real Naive Bayes :\\n\\n', score_Dnb)"
   ]
  },
  {
   "cell_type": "code",
   "execution_count": 31,
   "id": "5a494cfc",
   "metadata": {},
   "outputs": [],
   "source": [
    "#Klasifikasi Test Adaboost NBC\n",
    "classifierBoost.fit(x_train, y_train)\n",
    "pred_boost = classifierBoost.predict(x_test)\n",
    "\n",
    "#Klasifikasi Data Adaboost NBC\n",
    "classifierBoost.fit(x_train, y_train)\n",
    "Dpred_boost = classifierBoost.predict(x)"
   ]
  },
  {
   "cell_type": "code",
   "execution_count": 32,
   "id": "8008ecec",
   "metadata": {},
   "outputs": [
    {
     "name": "stdout",
     "output_type": "stream",
     "text": [
      "Confusion Matrix Data Test AdaBoost Naive Bayes :\n",
      "\n",
      " [[  0   0 270]\n",
      " [  0   1 116]\n",
      " [  0   0 383]] \n",
      "\n",
      "========================================\n",
      "========================================\n",
      "\n",
      "Confusion Matrix Data Real Adaboost Naive Bayes :\n",
      "\n",
      " [[   0    0 2715]\n",
      " [   0    4 1275]\n",
      " [   0    0 3698]]\n"
     ]
    }
   ],
   "source": [
    "#Confusion Matrix Test Adaboost NBC\n",
    "cm_ad = confusion_matrix(y_test, pred_boost)\n",
    "print('Confusion Matrix Data Test AdaBoost Naive Bayes :\\n\\n', cm_ad,'\\n')\n",
    "\n",
    "print('========================================')\n",
    "print('========================================\\n')\n",
    "\n",
    "#Confusion Matrix Test Adaboost NBC\n",
    "cm_Dad = confusion_matrix(y, Dpred_boost)\n",
    "print('Confusion Matrix Data Real Adaboost Naive Bayes :\\n\\n', cm_Dad)"
   ]
  },
  {
   "cell_type": "code",
   "execution_count": 33,
   "id": "9196af13",
   "metadata": {},
   "outputs": [
    {
     "name": "stdout",
     "output_type": "stream",
     "text": [
      "Score Confusion Matrix Data Test Adaboost Naive Bayes :\n",
      "\n",
      "               precision    recall  f1-score   support\n",
      "\n",
      "          -1       0.00      0.00      0.00       270\n",
      "           0       1.00      0.01      0.02       117\n",
      "           1       0.50      1.00      0.66       383\n",
      "\n",
      "    accuracy                           0.50       770\n",
      "   macro avg       0.50      0.34      0.23       770\n",
      "weighted avg       0.40      0.50      0.33       770\n",
      "\n",
      "========================================================\n",
      "========================================================\n",
      "\n",
      "Score Confusion Matrix Data Real Adaboost Naive Bayes :\n",
      "\n",
      "               precision    recall  f1-score   support\n",
      "\n",
      "          -1       0.00      0.00      0.00      2715\n",
      "           0       1.00      0.00      0.01      1279\n",
      "           1       0.48      1.00      0.65      3698\n",
      "\n",
      "    accuracy                           0.48      7692\n",
      "   macro avg       0.49      0.33      0.22      7692\n",
      "weighted avg       0.40      0.48      0.31      7692\n",
      "\n"
     ]
    }
   ],
   "source": [
    "#Nilai Test Confusion Matrix Adaboost NBC\n",
    "score_ad = classification_report(y_test,pred_boost, zero_division=0)\n",
    "print('Score Confusion Matrix Data Test Adaboost Naive Bayes :\\n\\n', score_ad)\n",
    "\n",
    "print('========================================================')\n",
    "print('========================================================\\n')\n",
    "\n",
    "#Nilai Data Confusion Matrix Adaboost NBC\n",
    "score_Dad =classification_report(y,Dpred_boost, zero_division=0)\n",
    "print('Score Confusion Matrix Data Real Adaboost Naive Bayes :\\n\\n', score_Dad)"
   ]
  },
  {
   "cell_type": "code",
   "execution_count": 34,
   "id": "e1c78646",
   "metadata": {},
   "outputs": [
    {
     "name": "stdout",
     "output_type": "stream",
     "text": [
      "Confusion Matrix Data Real DT :\n",
      "\n",
      " [[2623   15   77]\n",
      " [  10 1258   11]\n",
      " [  71   38 3589]]\n"
     ]
    }
   ],
   "source": [
    "from sklearn.tree import DecisionTreeClassifier\n",
    "classifierDT = DecisionTreeClassifier()\n",
    "classifierDT.fit(x_train, y_train)\n",
    "pred_DT = classifierDT.predict(x)\n",
    "cm_DT = confusion_matrix(y, pred_DT)\n",
    "print('Confusion Matrix Data Real DT :\\n\\n', cm_DT)"
   ]
  },
  {
   "cell_type": "code",
   "execution_count": 35,
   "id": "ded34f90",
   "metadata": {},
   "outputs": [
    {
     "name": "stdout",
     "output_type": "stream",
     "text": [
      "Score Confusion Matrix Data Real DT :\n",
      "\n",
      "               precision    recall  f1-score   support\n",
      "\n",
      "          -1       0.97      0.97      0.97      2715\n",
      "           0       0.96      0.98      0.97      1279\n",
      "           1       0.98      0.97      0.97      3698\n",
      "\n",
      "    accuracy                           0.97      7692\n",
      "   macro avg       0.97      0.97      0.97      7692\n",
      "weighted avg       0.97      0.97      0.97      7692\n",
      "\n"
     ]
    }
   ],
   "source": [
    "score_DT =classification_report(y,pred_DT, zero_division=0)\n",
    "print('Score Confusion Matrix Data Real DT :\\n\\n', score_DT)"
   ]
  },
  {
   "cell_type": "code",
   "execution_count": 36,
   "id": "9ba11ae4",
   "metadata": {},
   "outputs": [
    {
     "name": "stdout",
     "output_type": "stream",
     "text": [
      "Confusion Matrix Data Real DT Boost :\n",
      "\n",
      " [[2110  285  320]\n",
      " [  13 1214   52]\n",
      " [1126  525 2047]]\n"
     ]
    }
   ],
   "source": [
    "classifier_DTBoost = AdaBoostClassifier()\n",
    "classifier_DTBoost.fit(x_train, y_train)\n",
    "pred_DTboost = classifier_DTBoost.predict(x)\n",
    "cm_DTBoost = confusion_matrix(y, pred_DTboost)\n",
    "print('Confusion Matrix Data Real DT Boost :\\n\\n', cm_DTBoost)"
   ]
  },
  {
   "cell_type": "code",
   "execution_count": 37,
   "id": "5e3bf62a",
   "metadata": {},
   "outputs": [
    {
     "name": "stdout",
     "output_type": "stream",
     "text": [
      "Score Confusion Matrix Data Real DT :\n",
      "\n",
      "               precision    recall  f1-score   support\n",
      "\n",
      "          -1       0.65      0.78      0.71      2715\n",
      "           0       0.60      0.95      0.74      1279\n",
      "           1       0.85      0.55      0.67      3698\n",
      "\n",
      "    accuracy                           0.70      7692\n",
      "   macro avg       0.70      0.76      0.70      7692\n",
      "weighted avg       0.74      0.70      0.69      7692\n",
      "\n"
     ]
    }
   ],
   "source": [
    "score_DTboost = classification_report(y,pred_DTboost, zero_division=0)\n",
    "print('Score Confusion Matrix Data Real DT :\\n\\n', score_DTboost)"
   ]
  },
  {
   "cell_type": "code",
   "execution_count": null,
   "id": "39d91308",
   "metadata": {},
   "outputs": [],
   "source": []
  }
 ],
 "metadata": {
  "kernelspec": {
   "display_name": "Python 3 (ipykernel)",
   "language": "python",
   "name": "python3"
  },
  "language_info": {
   "codemirror_mode": {
    "name": "ipython",
    "version": 3
   },
   "file_extension": ".py",
   "mimetype": "text/x-python",
   "name": "python",
   "nbconvert_exporter": "python",
   "pygments_lexer": "ipython3",
   "version": "3.10.0"
  }
 },
 "nbformat": 4,
 "nbformat_minor": 5
}
